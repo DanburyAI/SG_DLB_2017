{
 "cells": [
  {
   "cell_type": "markdown",
   "metadata": {},
   "source": [
    "# CSC321: HW3\n",
    "** December 2017 **\n",
    "\n",
    "Problem set source: http://www.cs.toronto.edu/~rgrosse/courses/csc321_2017/\n",
    "\n",
    "\n",
    "Solutions by: ** Andrew Riberio @ [AndrewRib.com](http://www.andrewrib.com) **\n",
    "\n",
    "** Note: ** This notebook contains interactive elements and certain latex snippets that will not render in github markdown. \n",
    "You must run this notebook on your local Jupyter notebook environment for interactive elements or render or if you wish to render just the latex by using the url of this repo with the [online NBViewer](https://nbviewer.jupyter.org/).\n",
    "\n",
    "\n",
    "## Libraries"
   ]
  },
  {
   "cell_type": "code",
   "execution_count": 115,
   "metadata": {
    "collapsed": true
   },
   "outputs": [],
   "source": [
    "import numpy as np\n",
    "import sympy as sp\n",
    "from IPython.display import display\n",
    "\n",
    "sp.init_printing(order='rev-lex',use_latex='mathjax')"
   ]
  },
  {
   "cell_type": "markdown",
   "metadata": {},
   "source": [
    "## 3.1 Hard-Coding a Network"
   ]
  },
  {
   "cell_type": "code",
   "execution_count": 533,
   "metadata": {},
   "outputs": [],
   "source": [
    "# Our cost function\n",
    "def newActivationFn(fn):\n",
    "    actFn = np.vectorize(fn)\n",
    "    return lambda vect: np.apply_along_axis(actFn,0,vect)\n",
    "\n",
    "Φ = newActivationFn( lambda z: 1 if z >= 0 else 0 )\n",
    "\n",
    "def networkOut(X,W_1,b_1,w_2,b_2,debug=False,activationFn=Φ):\n",
    "    \n",
    "    if(debug):\n",
    "        #  X can have a variable number of columns, but we put one here for printing. \n",
    "        X_s   = sp.MatrixSymbol(\"X\"  ,1,4)\n",
    "        W_1_s = sp.MatrixSymbol(\"W_1\",3,4)\n",
    "        b_1_s = sp.MatrixSymbol(\"b_1\",1,3)\n",
    "        w_2_s = sp.MatrixSymbol(\"w_2\",1,3)\n",
    "        b_2_s = sp.MatrixSymbol(\"b_2\",1,1)\n",
    "        h     = sp.MatrixSymbol(\"h\",1,3)\n",
    "        phi   = sp.Function(r'\\phi')\n",
    "        \n",
    "        display(X_s)\n",
    "        display(sp.Matrix(X))\n",
    "        \n",
    "        display(X_s* W_1_s.T)\n",
    "        display(sp.Matrix(X*W_1.T))\n",
    "        \n",
    "        display(X_s* W_1_s.T+b_1_s)\n",
    "        display(sp.Matrix(X*W_1.T+b_1))\n",
    "        \n",
    "        display(sp.Eq(h,phi(X_s* W_1_s.T+b_1_s)))\n",
    "        display(sp.Matrix(activationFn(X*W_1.T + b_1)))\n",
    "        \n",
    "        display(w_2_s*h.T)\n",
    "        display(sp.Matrix(w_2*activationFn(X*W_1.T + b_1).T))\n",
    "        \n",
    "        display(w_2_s*h.T + b_2_s)\n",
    "        display(sp.Matrix(w_2*activationFn(X*W_1.T + b_1).T  + b_2))\n",
    "        \n",
    "        res = activationFn(w_2*activationFn(X*W_1.T + b_1).T  + b_2)\n",
    "        display(phi(w_2*Φ(X*W_1.T + b_1).T  + b_2))\n",
    "        display(sp.Matrix(res))\n",
    "        \n",
    "        return res\n",
    "        \n",
    "    else:\n",
    "        h = activationFn(X*W_1.T + b_1)\n",
    "        return activationFn(w_2*h.T + b_2)"
   ]
  },
  {
   "cell_type": "markdown",
   "metadata": {},
   "source": [
    "### Solution for $x_1<x_2<x_3<x_4 \\mid x_i \\in \\mathbb{R}$"
   ]
  },
  {
   "cell_type": "code",
   "execution_count": 494,
   "metadata": {
    "collapsed": true
   },
   "outputs": [],
   "source": [
    "W_1 = np.matrix([[-1,1,0,0],[0,-1,1,0],[0,0,-1,1]])\n",
    "b_1 = np.matrix([[-1,-1,-1]])\n",
    "w_2 = np.matrix([[1,1,1]])\n",
    "b_2 = -3"
   ]
  },
  {
   "cell_type": "code",
   "execution_count": 495,
   "metadata": {
    "collapsed": true
   },
   "outputs": [],
   "source": [
    "examples = np.matrix([[0,1,2,3],[1,2,3,4],[1,1,2,2],[1,5,9,10],[-4,-3,-2,-1],[-3,-4,-1,0]])"
   ]
  },
  {
   "cell_type": "code",
   "execution_count": 500,
   "metadata": {},
   "outputs": [
    {
     "data": {
      "text/plain": [
       "matrix([[1, 1, 0, 1, 1, 0]])"
      ]
     },
     "execution_count": 500,
     "metadata": {},
     "output_type": "execute_result"
    }
   ],
   "source": [
    "networkOut(examples,W_1,b_1,w_2,b_2,False)"
   ]
  },
  {
   "cell_type": "code",
   "execution_count": 497,
   "metadata": {
    "collapsed": true
   },
   "outputs": [],
   "source": [
    "W_1 = np.matrix([[1,-1,0,0],[0,1,-1,0],[0,0,1,-1]])\n",
    "b_1 = np.matrix([[0,0,0]])\n",
    "w_2 = np.matrix([[-1,-1,-1]])\n",
    "b_2 = 0"
   ]
  },
  {
   "cell_type": "code",
   "execution_count": 498,
   "metadata": {},
   "outputs": [
    {
     "data": {
      "text/plain": [
       "matrix([[1, 1, 0, 1, 1, 0]])"
      ]
     },
     "execution_count": 498,
     "metadata": {},
     "output_type": "execute_result"
    }
   ],
   "source": [
    "networkOut(examples,W_1,b_1,w_2,b_2,False)"
   ]
  },
  {
   "cell_type": "markdown",
   "metadata": {},
   "source": [
    "### Solution for $x_1\\leq x_2 \\leq x_3 \\leq x_4 \\mid x_i \\in \\mathbb{R}$\n",
    "To make the solution work for less than or equal, we will null out the hidden layer bias. "
   ]
  },
  {
   "cell_type": "code",
   "execution_count": 212,
   "metadata": {
    "collapsed": true
   },
   "outputs": [],
   "source": [
    "W_1 = np.matrix([[-1,1,0,0],[0,-1,1,0],[0,0,-1,1]])\n",
    "b_1 = np.matrix([[0,0,0]])\n",
    "w_2 = np.matrix([[1,1,1]])\n",
    "b_2 = -3"
   ]
  },
  {
   "cell_type": "code",
   "execution_count": 201,
   "metadata": {
    "collapsed": true
   },
   "outputs": [],
   "source": [
    "examples = np.matrix([[1,2,3,4],[1,1,2,2],[-3,-4,-1,0]])"
   ]
  },
  {
   "cell_type": "code",
   "execution_count": 202,
   "metadata": {},
   "outputs": [
    {
     "data": {
      "text/plain": [
       "matrix([[1, 1, 0]])"
      ]
     },
     "execution_count": 202,
     "metadata": {},
     "output_type": "execute_result"
    }
   ],
   "source": [
    "networkOut(examples,W_1,b_1,w_2,b_2)"
   ]
  },
  {
   "cell_type": "markdown",
   "metadata": {},
   "source": [
    "### Solution for $x_1\\geq x_2 \\geq x_3 \\geq x_4 \\mid x_i \\in \\mathbb{R}$"
   ]
  },
  {
   "cell_type": "code",
   "execution_count": 484,
   "metadata": {
    "collapsed": true
   },
   "outputs": [],
   "source": [
    "W_1 = np.matrix([[1,-1,0,0],[0,1,-1,0],[0,0,1,-1]])\n",
    "b_1 = np.matrix([[0,0,0]])\n",
    "w_2 = np.matrix([[1,1,1]])\n",
    "b_2 = -3"
   ]
  },
  {
   "cell_type": "code",
   "execution_count": 485,
   "metadata": {
    "collapsed": true
   },
   "outputs": [],
   "source": [
    "examples = np.matrix([[1,2,3,4],[1,1,2,2],[-3,-4,-1,0],[4,3,2,1]])"
   ]
  },
  {
   "cell_type": "code",
   "execution_count": 486,
   "metadata": {},
   "outputs": [
    {
     "data": {
      "text/plain": [
       "matrix([[0, 0, 0, 1]])"
      ]
     },
     "execution_count": 486,
     "metadata": {},
     "output_type": "execute_result"
    }
   ],
   "source": [
    "networkOut(examples,W_1,b_1,w_2,b_2)"
   ]
  },
  {
   "cell_type": "markdown",
   "metadata": {},
   "source": [
    "### Solution for $(x_1 + x_2) \\lt (x_3 + x_4) \\mid x_i \\in \\mathbb{R}$"
   ]
  },
  {
   "cell_type": "code",
   "execution_count": 581,
   "metadata": {
    "collapsed": true
   },
   "outputs": [],
   "source": [
    "W_1 = np.matrix([[-1,-1,1,1],[0,0,0,0],[0,0,0,0]])\n",
    "b_1 = np.matrix([[-1,-1,-1]])\n",
    "w_2 = np.matrix([[1,1,1]])\n",
    "b_2 = -1"
   ]
  },
  {
   "cell_type": "code",
   "execution_count": 582,
   "metadata": {},
   "outputs": [],
   "source": [
    "examples = np.matrix([[3,2,1,6],[2,1,3,4],[-3,-2,-1,-6],[-1,-6,-3,-2],[6,2,10,1],[10,1,2,6],[10,-2,1,10]])"
   ]
  },
  {
   "cell_type": "code",
   "execution_count": 583,
   "metadata": {},
   "outputs": [
    {
     "data": {
      "text/plain": [
       "matrix([[0, 0, 0, 0, 0, 0, 0]])"
      ]
     },
     "execution_count": 583,
     "metadata": {},
     "output_type": "execute_result"
    }
   ],
   "source": [
    "networkOut(examples,W_1,b_1,w_2,b_2)"
   ]
  },
  {
   "cell_type": "markdown",
   "metadata": {},
   "source": [
    "### Solution for consecutive squares $(x_1<x_2<x_3<x_4) \\cup (x_1>x_2>x_3>x_4) \\mid x_i \\in \\{n^2 \\mid n \\in \\mathbb{N}\\}$"
   ]
  },
  {
   "cell_type": "code",
   "execution_count": 592,
   "metadata": {},
   "outputs": [],
   "source": [
    "W_1 = np.matrix([[1,-2,1,0],[0,1,-2,1],[1,-1,-1,1]])\n",
    "b_1 = np.matrix([[-2,-2,-4]])\n",
    "w_2 = np.matrix([[1,1,1]])\n",
    "b_2 = -3"
   ]
  },
  {
   "cell_type": "code",
   "execution_count": 618,
   "metadata": {},
   "outputs": [],
   "source": [
    "examples = np.matrix([[1,4,9,16],[1,4,9,20],[1,2,4,6],[9,16,25,36],[49,64,81,100],[1,2,3,4],[81,49,64,100],[16,9,4,1],[9,16,81,100],\n",
    "                      [10**2,11**2,12**2,13**2]])\n"
   ]
  },
  {
   "cell_type": "code",
   "execution_count": 619,
   "metadata": {},
   "outputs": [
    {
     "data": {
      "text/latex": [
       "$$\\left[\\begin{matrix}1 & 4 & 9 & 16 & 1\\\\1 & 4 & 9 & 20 & 0\\\\1 & 2 & 4 & 6 & 0\\\\9 & 16 & 25 & 36 & 1\\\\49 & 64 & 81 & 100 & 1\\\\1 & 2 & 3 & 4 & 0\\\\81 & 49 & 64 & 100 & 0\\\\16 & 9 & 4 & 1 & 1\\\\9 & 16 & 81 & 100 & 0\\\\100 & 121 & 144 & 169 & 1\\end{matrix}\\right]$$"
      ],
      "text/plain": [
       "⎡ 1    4    9   16   1⎤\n",
       "⎢                     ⎥\n",
       "⎢ 1    4    9   20   0⎥\n",
       "⎢                     ⎥\n",
       "⎢ 1    2    4    6   0⎥\n",
       "⎢                     ⎥\n",
       "⎢ 9   16   25   36   1⎥\n",
       "⎢                     ⎥\n",
       "⎢49   64   81   100  1⎥\n",
       "⎢                     ⎥\n",
       "⎢ 1    2    3    4   0⎥\n",
       "⎢                     ⎥\n",
       "⎢81   49   64   100  0⎥\n",
       "⎢                     ⎥\n",
       "⎢16    9    4    1   1⎥\n",
       "⎢                     ⎥\n",
       "⎢ 9   16   81   100  0⎥\n",
       "⎢                     ⎥\n",
       "⎣100  121  144  169  1⎦"
      ]
     },
     "execution_count": 619,
     "metadata": {},
     "output_type": "execute_result"
    }
   ],
   "source": [
    "actFn = newActivationFn( lambda z: 1 if z == 0 else 0 )\n",
    "\n",
    "res = networkOut(examples,W_1,b_1,w_2,b_2,False,actFn)\n",
    "\n",
    "sp.Matrix( np.hstack( (examples,res.T) ) )"
   ]
  },
  {
   "cell_type": "code",
   "execution_count": 602,
   "metadata": {},
   "outputs": [
    {
     "data": {
      "text/latex": [
       "$$X$$"
      ],
      "text/plain": [
       "X"
      ]
     },
     "metadata": {},
     "output_type": "display_data"
    },
    {
     "data": {
      "text/latex": [
       "$$\\left[\\begin{matrix}16 & 9 & 4 & 1\\end{matrix}\\right]$$"
      ],
      "text/plain": [
       "[16  9  4  1]"
      ]
     },
     "metadata": {},
     "output_type": "display_data"
    },
    {
     "data": {
      "text/latex": [
       "$$X W_{1}^T$$"
      ],
      "text/plain": [
       "    T\n",
       "X⋅W₁ "
      ]
     },
     "metadata": {},
     "output_type": "display_data"
    },
    {
     "data": {
      "text/latex": [
       "$$\\left[\\begin{matrix}2 & 2 & 4\\end{matrix}\\right]$$"
      ],
      "text/plain": [
       "[2  2  4]"
      ]
     },
     "metadata": {},
     "output_type": "display_data"
    },
    {
     "data": {
      "text/latex": [
       "$$X W_{1}^T + b_{1}$$"
      ],
      "text/plain": [
       "    T     \n",
       "X⋅W₁  + b₁"
      ]
     },
     "metadata": {},
     "output_type": "display_data"
    },
    {
     "data": {
      "text/latex": [
       "$$\\left[\\begin{matrix}0 & 0 & 0\\end{matrix}\\right]$$"
      ],
      "text/plain": [
       "[0  0  0]"
      ]
     },
     "metadata": {},
     "output_type": "display_data"
    },
    {
     "data": {
      "text/latex": [
       "$$h = \\phi{\\left (X W_{1}^T + b_{1} \\right )}$$"
      ],
      "text/plain": [
       "        ⎛    T     ⎞\n",
       "h = \\phi⎝X⋅W₁  + b₁⎠"
      ]
     },
     "metadata": {},
     "output_type": "display_data"
    },
    {
     "data": {
      "text/latex": [
       "$$\\left[\\begin{matrix}1 & 1 & 1\\end{matrix}\\right]$$"
      ],
      "text/plain": [
       "[1  1  1]"
      ]
     },
     "metadata": {},
     "output_type": "display_data"
    },
    {
     "data": {
      "text/latex": [
       "$$w_{2} h^T$$"
      ],
      "text/plain": [
       "    T\n",
       "w₂⋅h "
      ]
     },
     "metadata": {},
     "output_type": "display_data"
    },
    {
     "data": {
      "text/latex": [
       "$$\\left[\\begin{matrix}3\\end{matrix}\\right]$$"
      ],
      "text/plain": [
       "[3]"
      ]
     },
     "metadata": {},
     "output_type": "display_data"
    },
    {
     "data": {
      "text/latex": [
       "$$w_{2} h^T + b_{2}$$"
      ],
      "text/plain": [
       "    T     \n",
       "w₂⋅h  + b₂"
      ]
     },
     "metadata": {},
     "output_type": "display_data"
    },
    {
     "data": {
      "text/latex": [
       "$$\\left[\\begin{matrix}0\\end{matrix}\\right]$$"
      ],
      "text/plain": [
       "[0]"
      ]
     },
     "metadata": {},
     "output_type": "display_data"
    },
    {
     "data": {
      "text/latex": [
       "$$\\phi{\\left (0.0 \\right )}$$"
      ],
      "text/plain": [
       "\\phi(0.0)"
      ]
     },
     "metadata": {},
     "output_type": "display_data"
    },
    {
     "data": {
      "text/latex": [
       "$$\\left[\\begin{matrix}1\\end{matrix}\\right]$$"
      ],
      "text/plain": [
       "[1]"
      ]
     },
     "metadata": {},
     "output_type": "display_data"
    },
    {
     "data": {
      "text/latex": [
       "$$\\left[\\begin{matrix}16 & 9 & 4 & 1 & 1\\end{matrix}\\right]$$"
      ],
      "text/plain": [
       "[16  9  4  1  1]"
      ]
     },
     "execution_count": 602,
     "metadata": {},
     "output_type": "execute_result"
    }
   ],
   "source": [
    "examples = np.matrix([[16,9,4,1]])\n",
    "\n",
    "res = networkOut(examples,W_1,b_1,w_2,b_2,True,actFn)\n",
    "\n",
    "sp.Matrix( np.hstack( (examples,res.T) ) )"
   ]
  },
  {
   "cell_type": "code",
   "execution_count": 603,
   "metadata": {},
   "outputs": [
    {
     "data": {
      "text/latex": [
       "$$X$$"
      ],
      "text/plain": [
       "X"
      ]
     },
     "metadata": {},
     "output_type": "display_data"
    },
    {
     "data": {
      "text/latex": [
       "$$\\left[\\begin{matrix}1 & 4 & 9 & 16\\end{matrix}\\right]$$"
      ],
      "text/plain": [
       "[1  4  9  16]"
      ]
     },
     "metadata": {},
     "output_type": "display_data"
    },
    {
     "data": {
      "text/latex": [
       "$$X W_{1}^T$$"
      ],
      "text/plain": [
       "    T\n",
       "X⋅W₁ "
      ]
     },
     "metadata": {},
     "output_type": "display_data"
    },
    {
     "data": {
      "text/latex": [
       "$$\\left[\\begin{matrix}2 & 2 & 4\\end{matrix}\\right]$$"
      ],
      "text/plain": [
       "[2  2  4]"
      ]
     },
     "metadata": {},
     "output_type": "display_data"
    },
    {
     "data": {
      "text/latex": [
       "$$X W_{1}^T + b_{1}$$"
      ],
      "text/plain": [
       "    T     \n",
       "X⋅W₁  + b₁"
      ]
     },
     "metadata": {},
     "output_type": "display_data"
    },
    {
     "data": {
      "text/latex": [
       "$$\\left[\\begin{matrix}0 & 0 & 0\\end{matrix}\\right]$$"
      ],
      "text/plain": [
       "[0  0  0]"
      ]
     },
     "metadata": {},
     "output_type": "display_data"
    },
    {
     "data": {
      "text/latex": [
       "$$h = \\phi{\\left (X W_{1}^T + b_{1} \\right )}$$"
      ],
      "text/plain": [
       "        ⎛    T     ⎞\n",
       "h = \\phi⎝X⋅W₁  + b₁⎠"
      ]
     },
     "metadata": {},
     "output_type": "display_data"
    },
    {
     "data": {
      "text/latex": [
       "$$\\left[\\begin{matrix}1 & 1 & 1\\end{matrix}\\right]$$"
      ],
      "text/plain": [
       "[1  1  1]"
      ]
     },
     "metadata": {},
     "output_type": "display_data"
    },
    {
     "data": {
      "text/latex": [
       "$$w_{2} h^T$$"
      ],
      "text/plain": [
       "    T\n",
       "w₂⋅h "
      ]
     },
     "metadata": {},
     "output_type": "display_data"
    },
    {
     "data": {
      "text/latex": [
       "$$\\left[\\begin{matrix}3\\end{matrix}\\right]$$"
      ],
      "text/plain": [
       "[3]"
      ]
     },
     "metadata": {},
     "output_type": "display_data"
    },
    {
     "data": {
      "text/latex": [
       "$$w_{2} h^T + b_{2}$$"
      ],
      "text/plain": [
       "    T     \n",
       "w₂⋅h  + b₂"
      ]
     },
     "metadata": {},
     "output_type": "display_data"
    },
    {
     "data": {
      "text/latex": [
       "$$\\left[\\begin{matrix}0\\end{matrix}\\right]$$"
      ],
      "text/plain": [
       "[0]"
      ]
     },
     "metadata": {},
     "output_type": "display_data"
    },
    {
     "data": {
      "text/latex": [
       "$$\\phi{\\left (0.0 \\right )}$$"
      ],
      "text/plain": [
       "\\phi(0.0)"
      ]
     },
     "metadata": {},
     "output_type": "display_data"
    },
    {
     "data": {
      "text/latex": [
       "$$\\left[\\begin{matrix}1\\end{matrix}\\right]$$"
      ],
      "text/plain": [
       "[1]"
      ]
     },
     "metadata": {},
     "output_type": "display_data"
    },
    {
     "data": {
      "text/latex": [
       "$$\\left[\\begin{matrix}1 & 4 & 9 & 16 & 1\\end{matrix}\\right]$$"
      ],
      "text/plain": [
       "[1  4  9  16  1]"
      ]
     },
     "execution_count": 603,
     "metadata": {},
     "output_type": "execute_result"
    }
   ],
   "source": [
    "examples = np.matrix([[1,4,9,16]])\n",
    "\n",
    "res = networkOut(examples,W_1,b_1,w_2,b_2,True,actFn)\n",
    "\n",
    "sp.Matrix( np.hstack( (examples,res.T) ) )"
   ]
  },
  {
   "cell_type": "markdown",
   "metadata": {},
   "source": [
    "### Question: How do we modify the network to accept only ascending or descending sequences of squares? "
   ]
  }
 ],
 "metadata": {
  "kernelspec": {
   "display_name": "Python 3",
   "language": "python",
   "name": "python3"
  },
  "language_info": {
   "codemirror_mode": {
    "name": "ipython",
    "version": 3
   },
   "file_extension": ".py",
   "mimetype": "text/x-python",
   "name": "python",
   "nbconvert_exporter": "python",
   "pygments_lexer": "ipython3",
   "version": "3.5.3"
  }
 },
 "nbformat": 4,
 "nbformat_minor": 2
}
