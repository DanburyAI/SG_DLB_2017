{
 "cells": [
  {
   "cell_type": "markdown",
   "metadata": {},
   "source": [
    "# Neural Boolean Connectives 1\n",
    "** November 2017 **\n",
    "\n",
    "** Andrew Riberio @ [AndrewRib.com](http://www.andrewrib.com) **\n",
    "\n",
    "A notebook on understanding how a single layer neural network can represent the operation of common logical operators. \n",
    "\n",
    "** Note: ** This notebook contains interactive elements and certain latex snippets that will not render in github markdown. \n",
    "You must run this notebook on your local Jupyter notebook environment for interactive elements or render or if you wish to render just the latex by using the url of this repo with the [online NBViewer](https://nbviewer.jupyter.org/).\n",
    "\n",
    "## Libraries"
   ]
  },
  {
   "cell_type": "code",
   "execution_count": 221,
   "metadata": {
    "collapsed": true
   },
   "outputs": [],
   "source": [
    "import numpy as np\n",
    "\n",
    "#Interactive Components\n",
    "from ipywidgets import interact"
   ]
  },
  {
   "cell_type": "markdown",
   "metadata": {},
   "source": [
    "## Boolean Connectives\n",
    "\n",
    "Boolean connectives are logical operators that connect two boolean statements in a particular way. Amoung the fundamental few are and, or, implication, and xor. We can define the operations by truth tables as seen here:\n",
    "\n",
    "\n",
    "A | B | A ∧ B\n",
    "--- | --- | ---\n",
    "0 | 0 | 0\n",
    "0 | 1 | 0\n",
    "1 | 0 | 0 \n",
    "1 | 1 | 1\n",
    "\n",
    "A | B | A ∨ B\n",
    "--- | --- | ---\n",
    "0 | 0 | 0\n",
    "0 | 1 | 1\n",
    "1 | 0 | 1\n",
    "1 | 1 | 1\n",
    "\n",
    "A | B | A → B\n",
    "--- | --- | ---\n",
    "0 | 0 | 1\n",
    "0 | 1 | 1\n",
    "1 | 0 | 0\n",
    "1 | 1 | 1\n",
    "\n",
    "A | B | A ⊻ B\n",
    "--- | --- | ---\n",
    "0 | 0 | 0\n",
    "0 | 1 | 1\n",
    "1 | 0 | 1\n",
    "1 | 1 | 0"
   ]
  },
  {
   "cell_type": "markdown",
   "metadata": {},
   "source": [
    "## Learning XOR\n",
    "Here we simply implement the results in section 6.1 of the book. We are not really learning XOR here. We are using the results of some learning process to show that given some matrix X, we can transform it into a vector which represents the XOR operation on each row of X. "
   ]
  },
  {
   "cell_type": "code",
   "execution_count": 222,
   "metadata": {
    "collapsed": true
   },
   "outputs": [],
   "source": [
    "def relu(z):\n",
    "    return np.maximum(0,z)\n",
    "\n",
    "def linLayer(x,w,b):\n",
    "    return x.T*w + b\n",
    "\n",
    "# x: 2 by 4\n",
    "# W: 2 by 2\n",
    "# c: 2 by 1\n",
    "# w: 2 by 1\n",
    "# b: scalar\n",
    "\n",
    "def fullNetwork(x,W,c,w,b):\n",
    "    h = relu( linLayer(W,x,c) )\n",
    "    return linLayer(w, h, b)"
   ]
  },
  {
   "cell_type": "code",
   "execution_count": 223,
   "metadata": {},
   "outputs": [
    {
     "name": "stdout",
     "output_type": "stream",
     "text": [
      "x.T\n",
      "\n",
      "[[0 0]\n",
      " [0 1]\n",
      " [1 0]\n",
      " [1 1]]\n",
      "\n",
      "x.T*W\n",
      "\n",
      "[[0 0]\n",
      " [1 1]\n",
      " [1 1]\n",
      " [2 2]]\n"
     ]
    }
   ],
   "source": [
    "W = np.matrix([[1,1],[1,1]])\n",
    "x = np.matrix([[0,0,1,1],[0,1,0,1]])\n",
    "c = np.matrix([0,-1]).T\n",
    "\n",
    "print(\"x.T\\n\")\n",
    "print(x.T)\n",
    "print(\"\\nx.T*W\\n\")\n",
    "print(x.T*W)"
   ]
  },
  {
   "cell_type": "code",
   "execution_count": 224,
   "metadata": {},
   "outputs": [
    {
     "name": "stdout",
     "output_type": "stream",
     "text": [
      "x.T*W + c\n",
      "\n",
      "[[ 0 -1]\n",
      " [ 1  0]\n",
      " [ 1  0]\n",
      " [ 2  1]]\n"
     ]
    }
   ],
   "source": [
    "linLayH = linLayer(W,x,c)\n",
    "print(\"x.T*W + c\\n\")\n",
    "print(linLayH.T)"
   ]
  },
  {
   "cell_type": "code",
   "execution_count": 225,
   "metadata": {},
   "outputs": [
    {
     "name": "stdout",
     "output_type": "stream",
     "text": [
      "relu( x.T*W + c )\n",
      "\n",
      "[[0 0]\n",
      " [1 0]\n",
      " [1 0]\n",
      " [2 1]]\n"
     ]
    }
   ],
   "source": [
    "h = relu( linLayH )\n",
    "print(\"relu( x.T*W + c )\\n\")\n",
    "print(h.T)"
   ]
  },
  {
   "cell_type": "code",
   "execution_count": 226,
   "metadata": {},
   "outputs": [
    {
     "name": "stdout",
     "output_type": "stream",
     "text": [
      "w.T*relu( x.T*W + c )+b\n",
      "\n",
      "[[0]\n",
      " [1]\n",
      " [1]\n",
      " [0]]\n"
     ]
    }
   ],
   "source": [
    "w = np.matrix([1,-2]).T\n",
    "b = 0\n",
    "\n",
    "f = linLayer(w, h, b)\n",
    "\n",
    "print(\"w.T*relu( x.T*W + c )+b\\n\")\n",
    "print(f.T)"
   ]
  },
  {
   "cell_type": "markdown",
   "metadata": {},
   "source": [
    "If learning XOR was a linear transformation there would be an M such that x.T * M = [ 0,1,1,0]. There is no such M, however. Below you will find an interactive section for exploring M space ( 1 by 2 matrix ). "
   ]
  },
  {
   "cell_type": "code",
   "execution_count": 227,
   "metadata": {},
   "outputs": [
    {
     "name": "stdout",
     "output_type": "stream",
     "text": [
      "M:\n",
      "[[ 1]\n",
      " [-2]]\n",
      "\n",
      "x:\n",
      "[[0 0]\n",
      " [0 1]\n",
      " [1 0]\n",
      " [1 1]]\n",
      "\n",
      "Desired x.T * M:\n",
      "[[0]\n",
      " [1]\n",
      " [1]\n",
      " [0]]\n",
      "\n",
      "x.T * M:\n",
      "[[ 0]\n",
      " [-2]\n",
      " [ 1]\n",
      " [-1]]\n"
     ]
    },
    {
     "data": {
      "text/plain": [
       "<function __main__.exploreM>"
      ]
     },
     "execution_count": 227,
     "metadata": {},
     "output_type": "execute_result"
    }
   ],
   "source": [
    "def exploreM(m1=1,m2=-2):\n",
    "    M = np.matrix([m1,m2]).T\n",
    "    print(\"M:\")\n",
    "    print(M)\n",
    "    print(\"\\nx:\")\n",
    "    print(x.T)\n",
    "    print(\"\\nDesired x.T * M:\")\n",
    "    print(np.matrix([0,1,1,0]).T)\n",
    "    print(\"\\nx.T * M:\")\n",
    "    print(x.T*M)\n",
    "\n",
    "interact(exploreM,m1=[-10,10],m2=[-10,10])"
   ]
  },
  {
   "cell_type": "markdown",
   "metadata": {},
   "source": [
    "## Representing AND\n",
    "We'd like to transform matrix X representing all possible values for the opperands of AND( ∧ ) into a vector representing the value of applying AND to those opperands:\n",
    "\n",
    "$$\n",
    "\\begin{bmatrix} \n",
    "0 & 0 \\\\\n",
    "0 & 1 \\\\\n",
    "1 & 0 \\\\\n",
    "1 & 1 \\\\\n",
    "\\end{bmatrix}\n",
    "\\overset{∧}{\\rightarrow}\n",
    "\\begin{bmatrix} \n",
    "0  \\\\\n",
    "0 \\\\\n",
    "0  \\\\\n",
    "1  \\\\\n",
    "\\end{bmatrix}\n",
    "$$\n",
    "\n",
    "$$\n",
    "w^\\intercal \n",
    "relu(\\begin{bmatrix} \n",
    "0 & 0 \\\\\n",
    "0 & 1 \\\\\n",
    "1 & 0 \\\\\n",
    "1 & 1 \\\\\n",
    "\\end{bmatrix}^\\intercal \n",
    "W + c)+b = \\begin{bmatrix} 0 & 0 & 0 & 1 \\end{bmatrix}^\\intercal\n",
    "$$\n",
    "\n",
    "As you can see, the task is to find matricies W,w,c, and scalar b which transforms our x matrix into the solution desired. Let's try to do this by hand to explore how the various variables behave in respect to transforming X.\n",
    "\n",
    "We first look at how a matrix of ones is transformed by different values of W. "
   ]
  },
  {
   "cell_type": "code",
   "execution_count": 228,
   "metadata": {
    "collapsed": true
   },
   "outputs": [],
   "source": [
    "x = np.matrix([[1,1,1,1],[1,1,1,1]])"
   ]
  },
  {
   "cell_type": "markdown",
   "metadata": {},
   "source": [
    "###  W"
   ]
  },
  {
   "cell_type": "code",
   "execution_count": 237,
   "metadata": {},
   "outputs": [
    {
     "name": "stdout",
     "output_type": "stream",
     "text": [
      "[[0 0]\n",
      " [0 0]\n",
      " [0 0]\n",
      " [0 0]]\n"
     ]
    },
    {
     "data": {
      "text/plain": [
       "<function __main__.wInt>"
      ]
     },
     "execution_count": 237,
     "metadata": {},
     "output_type": "execute_result"
    }
   ],
   "source": [
    "def wInt(w1,w2,w3,w4):\n",
    "    W = np.matrix([[w1,w2],\n",
    "                   [w3, w4]])\n",
    "    print(x.T*W)\n",
    "    \n",
    "interact(wInt,w1=[-5,5],w2=[-5,5],w3=[-5,5],w4=[-5,5])"
   ]
  },
  {
   "cell_type": "markdown",
   "metadata": {},
   "source": [
    "From experimenting above we can see that: \n",
    "\n",
    "* w1: Modifies the first column values. \n",
    "* w3: Modifies the first column values. \n",
    "\n",
    "\n",
    "* w2: Modifies the second column values\n",
    "* w4: Modifies the second column values"
   ]
  },
  {
   "cell_type": "markdown",
   "metadata": {},
   "source": [
    "Now let's do the same experiment with the x matrix set to the desired x. "
   ]
  },
  {
   "cell_type": "code",
   "execution_count": 246,
   "metadata": {},
   "outputs": [
    {
     "name": "stdout",
     "output_type": "stream",
     "text": [
      "[[0 0]\n",
      " [0 0]\n",
      " [0 0]\n",
      " [0 0]]\n"
     ]
    },
    {
     "data": {
      "text/plain": [
       "<function __main__.wInt>"
      ]
     },
     "execution_count": 246,
     "metadata": {},
     "output_type": "execute_result"
    }
   ],
   "source": [
    "x = np.matrix([[0,0,1,1],[0,1,0,1]])\n",
    "interact(wInt,w1=[-5,5],w2=[-5,5],w3=[-5,5],w4=[-5,5])"
   ]
  },
  {
   "cell_type": "markdown",
   "metadata": {},
   "source": [
    "From experimenting above we can see that: \n",
    "\n",
    "* w1: Modifies the first column values in **the last two rows**. \n",
    "* w2: Modifies the second column values in **the last two rows**.\n",
    "\n",
    "\n",
    "* w3: Modifies the first column values in **the second and forth rows**.\n",
    "* w4: Modifies the second column values in **the second and forth rows**.\n",
    "\n",
    "By experimenting with the applet above, we can find a matrix that makes the last column distinctly larger than all others. Since we'd like to transform this matrix to [0,0,0,1], this is a property we need. I found a W matrix of the form [0,1],[0,1] that seems to do the job. "
   ]
  },
  {
   "cell_type": "code",
   "execution_count": 241,
   "metadata": {},
   "outputs": [
    {
     "name": "stdout",
     "output_type": "stream",
     "text": [
      "[[0 0]\n",
      " [0 1]\n",
      " [0 1]\n",
      " [0 2]]\n"
     ]
    }
   ],
   "source": [
    "W = np.matrix([[0,1],[0,1]])\n",
    "print(x.T*W)"
   ]
  },
  {
   "cell_type": "markdown",
   "metadata": {},
   "source": [
    "### c\n",
    "C acts as a sort of filter on W. We can use this to get rid of the 1's above and keep the last row a 1. "
   ]
  },
  {
   "cell_type": "code",
   "execution_count": 242,
   "metadata": {},
   "outputs": [
    {
     "name": "stdout",
     "output_type": "stream",
     "text": [
      "x.T*W + c\n",
      "\n",
      "[[ 0 -1]\n",
      " [ 0  0]\n",
      " [ 0  0]\n",
      " [ 0  1]]\n"
     ]
    }
   ],
   "source": [
    "c = np.matrix([0,-1]).T\n",
    "linLayH = linLayer(W,x,c)\n",
    "print(\"x.T*W + c\\n\")\n",
    "print(linLayH.T)"
   ]
  },
  {
   "cell_type": "markdown",
   "metadata": {},
   "source": [
    "Nice! We can see that when applying an element wise relu will get us what we'd like. "
   ]
  },
  {
   "cell_type": "code",
   "execution_count": 247,
   "metadata": {},
   "outputs": [
    {
     "name": "stdout",
     "output_type": "stream",
     "text": [
      "[[0 0]\n",
      " [0 0]\n",
      " [0 0]\n",
      " [0 1]]\n"
     ]
    }
   ],
   "source": [
    "h = relu(linLayH)\n",
    "print(h.T)"
   ]
  },
  {
   "cell_type": "markdown",
   "metadata": {},
   "source": [
    "Now we must figure out the other variable values to flatten this matrix to a vector. \n",
    "\n",
    "### w\n",
    "Given the results from above, we know we can ignore b and just find a w that turns the matrix above to a vector. We do that with a column vector [0,1].T"
   ]
  },
  {
   "cell_type": "code",
   "execution_count": 256,
   "metadata": {},
   "outputs": [
    {
     "name": "stdout",
     "output_type": "stream",
     "text": [
      "[[0]\n",
      " [0]\n",
      " [0]\n",
      " [1]]\n"
     ]
    }
   ],
   "source": [
    "w = np.matrix([0,1]).T\n",
    "fn = linLayer(w, h, 0)\n",
    "print(fn.T)"
   ]
  },
  {
   "cell_type": "markdown",
   "metadata": {},
   "source": [
    "The final result we've achieved by hand is: \n",
    "\n",
    "$$\n",
    "\\begin{bmatrix} \n",
    "0 & 0 \\\\\n",
    "0 & 1 \\\\\n",
    "1 & 0 \\\\\n",
    "1 & 1 \\\\\n",
    "\\end{bmatrix}\n",
    "\\overset{∧}{\\rightarrow}\n",
    "\\begin{bmatrix} \n",
    "0  \\\\\n",
    "0 \\\\\n",
    "0  \\\\\n",
    "1  \\\\\n",
    "\\end{bmatrix}\n",
    "$$\n",
    "\n",
    "$$\n",
    "\\begin{bmatrix} \n",
    "0 \\\\\n",
    "1  \\\\\n",
    "\\end{bmatrix}^\\intercal \n",
    "relu(\\begin{bmatrix} \n",
    "0 & 0 \\\\\n",
    "0 & 1 \\\\\n",
    "1 & 0 \\\\\n",
    "1 & 1 \\\\\n",
    "\\end{bmatrix}\n",
    "\\begin{bmatrix} \n",
    "0 & 1 \\\\\n",
    "0 & 1 \\\\\n",
    "\\end{bmatrix}\n",
    "+ \n",
    "\\begin{bmatrix} \n",
    "0 \\\\\n",
    "-1  \\\\\n",
    "\\end{bmatrix}\n",
    ")^\\intercal +0 = \\begin{bmatrix} 0 & 0 & 0 & 1 \\end{bmatrix}\n",
    "$$\n",
    "\n"
   ]
  },
  {
   "cell_type": "markdown",
   "metadata": {},
   "source": [
    "In our next notebook **Neural Boolean Connectives 2** we will explore the case when we are given an additional target vector which contains a label for each row of X representing the result of the boolean operation to be learned. In the case of AND, we'd have: "
   ]
  },
  {
   "cell_type": "markdown",
   "metadata": {},
   "source": [
    "$$\n",
    "x = \\begin{bmatrix} \n",
    "0 & 0 \\\\\n",
    "0 & 1 \\\\\n",
    "1 & 0 \\\\\n",
    "1 & 1 \\\\\n",
    "\\end{bmatrix}\n",
    ",y = \n",
    "\\begin{bmatrix} \n",
    "0  \\\\\n",
    "0 \\\\\n",
    "0  \\\\\n",
    "1  \\\\\n",
    "\\end{bmatrix}\n",
    "$$"
   ]
  }
 ],
 "metadata": {
  "kernelspec": {
   "display_name": "Python 3",
   "language": "python",
   "name": "python3"
  },
  "language_info": {
   "codemirror_mode": {
    "name": "ipython",
    "version": 3
   },
   "file_extension": ".py",
   "mimetype": "text/x-python",
   "name": "python",
   "nbconvert_exporter": "python",
   "pygments_lexer": "ipython3",
   "version": "3.5.3"
  },
  "widgets": {
   "state": {
    "0ef801e8ffcf439bba523cdd1b606410": {
     "views": [
      {
       "cell_index": 17
      }
     ]
    },
    "bc1d071cb0be4492a28a2ac0b16c8662": {
     "views": [
      {
       "cell_index": 10
      }
     ]
    },
    "f52c353fa4df40ea80db6b3b3f641c38": {
     "views": [
      {
       "cell_index": 14
      }
     ]
    }
   },
   "version": "1.2.0"
  }
 },
 "nbformat": 4,
 "nbformat_minor": 2
}
