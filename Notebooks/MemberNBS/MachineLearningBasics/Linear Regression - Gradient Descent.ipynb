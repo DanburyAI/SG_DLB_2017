{
 "cells": [
  {
   "cell_type": "markdown",
   "metadata": {},
   "source": [
    "# Linear Regression\n",
    "## Gradient Descent\n",
    "** November 2017 **\n",
    "\n",
    "** Andrew Riberio @ [AndrewRib.com](http://www.andrewrib.com) **\n",
    "\n",
    "In this notebook we will show how gradient descent can be used to itteratively solve linear regression using least squares. \n",
    "\n",
    "** Note: ** This notebook contains interactive elements and certain latex snippets that will not render in github markdown. You must run this notebook on your local Jupyter notebook environment. \n",
    "\n",
    "## Libraries"
   ]
  },
  {
   "cell_type": "code",
   "execution_count": 2,
   "metadata": {
    "collapsed": true
   },
   "outputs": [],
   "source": [
    "import matplotlib.pyplot as plt\n",
    "import sklearn as sk\n",
    "import sklearn.datasets as skd\n",
    "from IPython.display import display, clear_output\n",
    "import time\n",
    "import numpy as np\n",
    "from matplotlib import animation, rc\n",
    "from IPython.display import HTML\n",
    "\n",
    "%matplotlib inline"
   ]
  },
  {
   "cell_type": "markdown",
   "metadata": {},
   "source": [
    "## Deriving the Gradient\n",
    "We now know what the solution space of linear regression looks like - it is convex. This means if we start at any point, which represents a possible regression line, and follow the steepest path, i.e. the largest gradient, we will eventually arrive at the global minimum -- the bottom of the convex cup. \n",
    "\n",
    "We start off with:\n",
    "$$\n",
    "MSE(\\mathbf{x},\\mathbf{y},h_\\theta) = \\frac{1}{m} \\lVert h_\\theta(\\mathbf{x})- \\mathbf{y} \\rVert^{2}_{2} \\tag{1} \\\\ \n",
    "$$\n",
    "Where:\n",
    "* The predicted value: $h_\\theta(\\mathbf{x})= \\mathbf{\\theta_{0}}+ \\mathbf{\\theta_{1}}\\mathbf{x}$\n",
    "    * $\\theta_0$ = y_intercept \n",
    "    * $\\theta_1$ = slope\n",
    "    \n",
    "    \n",
    "* The data vector: $\\mathbf{x}$\n",
    "* The number of items in our dataset $\\mathbf{x}$: m\n",
    "\n",
    "**Note: The arithmetic here is element-wise vector arithmetic.**\n",
    "\n",
    "We would now like to give this a more linear form. Since $ h_\\theta(\\mathbf{x})$ is a linear function, it can be written as a matrix. In order for the math to work out we must also augment the dataset X to include a bias term 1. With these changes we get:\n",
    "$$\n",
    "MSE(\\mathbf{x},\\mathbf{y},\\mathbf{A}) = \\frac{1}{m} \\lVert \\mathbf{A}\\mathbf{x}- \\mathbf{y} \\rVert^{2}_{2} \\tag{1} \\\\ \n",
    "$$\n",
    "\n",
    "We can expand this out to show explicity how A and x are being multiplied, where $\\theta_i$ is the i'th component of the A vector. We also show what MSE looks like as a summnation. Both forms are equivalent. Since we are teating X as fixed ( our dataset will not change over gradient descent ), we will use the cost function J to make things cleaner. \n",
    "\n",
    "$$\n",
    "MSE(\\mathbf{x},\\mathbf{y},\\mathbf{A}) = \\frac{1}{m} \\lVert \\mathbf{A_{0}}\\mathbf{x_0}+ \\mathbf{A_{1}}\\mathbf{x_1} - \\mathbf{x} \\rVert^{2}_{2} \\tag{1} \\\\ \n",
    "$$\n",
    "$$\n",
    "\\large J(\\theta) = MSE(\\mathbf{x},\\mathbf{y},\\theta_{0},\\theta_{1}) = \\frac{1}{m} \\sum_{i=1}^m{(\\mathbf{\\theta_{0}}\\mathbf{x_0^i}+ \\mathbf{\\theta_{1}}\\mathbf{x_1^i} - \\mathbf{x^i})^2 } \\tag{1} \\\\ \n",
    "$$\n",
    "\n",
    "Now we'd like to find:\n",
    "$$\n",
    "\\large \\nabla_{\\mathbf{A}} MSE(\\mathbf{x},\\mathbf{y},\\mathbf{A}) =  \\nabla_{\\mathbf{\\theta}}J(\\theta)\n",
    "$$\n",
    "\n",
    "Which means we need to find the partial derivitives with respect to each component of A. Meaning we need to find: \n",
    "\n",
    "$$\n",
    "\\large \\nabla_{\\mathbf{\\theta}}J(\\theta) = \\nabla_{\\mathbf{A}} MSE(\\mathbf{x},\\mathbf{y},\\mathbf{A}) = [\\frac{\\partial{J}}{\\partial{\\theta_{0}}},\\frac{\\partial{J}}{\\partial{\\theta_{1}}}]\n",
    "$$\n",
    "\n",
    "Before we do this, we generally add a 2 * M so that the square cancels out when we are doing our partial derivitives. \n",
    "\n",
    "$$\n",
    "\\large J(\\theta) = \\frac{1}{2m} \\sum_{i=1}^m(\\mathbf{\\theta_{0}}+ \\mathbf{\\theta_{1}}\\mathbf{x^i} - \\mathbf{y^i})^2\n",
    "$$"
   ]
  },
  {
   "cell_type": "markdown",
   "metadata": {},
   "source": [
    "$$\n",
    "\\large \\frac{\\partial}{\\partial{\\theta_{0}}}J(\\theta) = Bias Gradient = \\frac{1}{m} \\sum_{i=1}^m{\\mathbf{\\theta_{0}}+ \\mathbf{\\theta_{1}}\\mathbf{x^i} - \\mathbf{y^i}}\n",
    "$$"
   ]
  },
  {
   "cell_type": "markdown",
   "metadata": {},
   "source": [
    "$$\n",
    "\\large \\frac{\\partial}{\\partial{\\theta_{1}}}J(\\theta) = Slope Gradient =\\frac{1}{m} \\sum_{i=1}^m{(\\mathbf{\\theta_{0}}+ \\mathbf{\\theta_{1}}\\mathbf{x^i} - \\mathbf{y^i})\\mathbf{x^i}} \n",
    "$$\n",
    "\n",
    "We can now use the gradient with respect to the linear parameters to start with a solution ( a particular line ) and make it incrementally better. "
   ]
  },
  {
   "cell_type": "markdown",
   "metadata": {
    "collapsed": true
   },
   "source": [
    "## Gradient Descent"
   ]
  },
  {
   "cell_type": "code",
   "execution_count": 35,
   "metadata": {
    "collapsed": true
   },
   "outputs": [],
   "source": [
    "def mse(yPredict,yActual):\n",
    "    return np.square(yPredict.T-yActual.T).mean()\n",
    "    \n",
    "def h(slope,y_intercept):\n",
    "    return lambda x:slope*x+y_intercept\n",
    "\n",
    "def biasGradient(slope,intercept,X,Y):\n",
    "    m = len(X)\n",
    "    total = 0\n",
    "    for x,y in zip(X,Y):\n",
    "        total += intercept + slope*x - y\n",
    "    return total/m\n",
    "\n",
    "def slopeGradient(slope,intercept,X,Y):\n",
    "    m = len(X)\n",
    "    total = 0\n",
    "    for x,y in zip(X,Y):\n",
    "        total += (intercept + slope*x - y)*y\n",
    "    return total/m\n",
    "\n",
    "def plotLineOnData(lineIntercept,lineSlope,X,Y):\n",
    "    ys = np.apply_along_axis(h(lineSlope,lineIntercept), 0, X)\n",
    "    mseV = mse(ys,Y)\n",
    "    \n",
    "    plt.figure(figsize=(10,10))\n",
    "    \n",
    "    plt.title(\"Mean Squared Error: {0}\".format(mseV),fontsize=15)\n",
    "    plt.ylabel(\"Dependent Variable (Y)\",fontsize=15)\n",
    "    plt.xlabel(\"Independent Variable (X)\",fontsize=15)\n",
    "    plt.scatter(X,Y)\n",
    "    plt.plot(X,ys)\n",
    "    plt.show()\n",
    "    \n",
    "def descent(lineSlope,lineIntercept):\n",
    "    ys = np.apply_along_axis(h(lineSlope,lineIntercept), 0, X)\n",
    "    \n",
    "    mseV = mse(ys,Y)\n",
    "\n",
    "    ls = lineSlope - learningRate*slopeGradient(lineSlope,lineIntercept,X,Y)\n",
    "    li = lineIntercept - learningRate*biasGradient(lineSlope,lineIntercept,X,Y)\n",
    "    \n",
    "    return [ls,li,mseV]\n"
   ]
  },
  {
   "cell_type": "markdown",
   "metadata": {},
   "source": [
    "When you run the code below, it will itteratively use the parameters set above to fit the regression line. "
   ]
  },
  {
   "cell_type": "code",
   "execution_count": 52,
   "metadata": {},
   "outputs": [
    {
     "name": "stdout",
     "output_type": "stream",
     "text": [
      "Found Best Line: y = 42.43530825979012 * x + -0.08143288774564013\n"
     ]
    },
    {
     "data": {
      "image/png": "[encoded data removed]",
      "text/plain": [
       "<matplotlib.figure.Figure at 0x1c5f6b99a90>"
      ]
     },
     "metadata": {},
     "output_type": "display_data"
    }
   ],
   "source": [
    "## Play with these values. ###\n",
    "\n",
    "# Initial line\n",
    "lineSlope = 0\n",
    "lineIntercept = 0\n",
    "\n",
    "# How noisy is the linear data generator? 0 is a perfect line. \n",
    "dataNoise = 1\n",
    "\n",
    "# Setting for gradient descent \n",
    "learningRate = 0.0001\n",
    "\n",
    "# The loop will break when we start climbing up hill. \n",
    "# Set high to go until we find the best fit. \n",
    "itterations = 1000000000\n",
    "##########################\n",
    "\n",
    "X,Y = skd.make_regression(100,1,random_state=0, noise=dataNoise)\n",
    "pMSE = 1000000000000000000000\n",
    "pS,pI = 0,0\n",
    "\n",
    "for i in range(itterations):\n",
    "    lineSlope,lineIntercept,mseV = descent(lineSlope,lineIntercept)\n",
    "    if(mseV < pMSE):\n",
    "        # Make sure we keep getting better solutions. We don't want to go up hill. \n",
    "        #print(\"MSE[{0}] = {1}\".format(i+1,mseV))\n",
    "        pMSE = mseV \n",
    "        pS = lineSlope\n",
    "        pI = lineIntercept\n",
    "    else:\n",
    "        # Since this problem is convex, if we get a worse solution, we are going up hill\n",
    "        # the previous itteration found the best line. \n",
    "        print(\"Found Best Line: y = {0} * x + {1}\".format(pS[0],pI[0]))\n",
    "        break\n",
    "        \n",
    "plotLineOnData(pI,pS,X,Y)"
   ]
  }
 ],
 "metadata": {
  "kernelspec": {
   "display_name": "Python 3",
   "language": "python",
   "name": "python3"
  },
  "language_info": {
   "codemirror_mode": {
    "name": "ipython",
    "version": 3
   },
   "file_extension": ".py",
   "mimetype": "text/x-python",
   "name": "python",
   "nbconvert_exporter": "python",
   "pygments_lexer": "ipython3",
   "version": "3.5.3"
  }
 },
 "nbformat": 4,
 "nbformat_minor": 2
}
