{
 "cells": [
  {
   "cell_type": "markdown",
   "metadata": {},
   "source": [
    "In order to derive the closed form for linear regression, we will set:\n",
    "$$ \n",
    "0 = \\nabla_{\\mathbf{x}} f(\\mathbf{x}) = g(\\mathbf{x}) = \\mathbf{A}^{T}(\\mathbf{A}\\mathbf{x} - \\mathbf{b}) \\tag{3}\n",
    "$$ \n",
    "\n",
    "and solve for x. Setting the gradient of $f(x)$ with respect to x equal to zero is the multivariable equivalent of finding a point where the derivitive of a function is zero - we have reached some extrema. Since linear least squares is a convex optimization problem, the extrema is garenteed to be a global minima.\n",
    "\n",
    "Solve for x:\n",
    "$$\n",
    " 0 = \\mathbf{A}^{T}(\\mathbf{A}\\mathbf{x} - \\mathbf{b}) \\tag{4}\n",
    "$$\n",
    "\n",
    "$$\n",
    " 0 = \\mathbf{A}^{T}\\mathbf{A}\\mathbf{x} - \\mathbf{A}^{T}\\mathbf{b} \\tag{5}\n",
    "$$\n",
    "\n",
    "$$\n",
    " \\mathbf{A}^{T}\\mathbf{b} = \\mathbf{A}^{T}\\mathbf{A}\\mathbf{x}\\tag{6}\n",
    "$$\n",
    "\n",
    "$$\n",
    " (\\mathbf{A}^{T}\\mathbf{A})^{-1} \\mathbf{A}^{T}\\mathbf{b} = \\mathbf{x} \\tag{7}\n",
    "$$\n",
    "\n",
    "When we substitute b with the target values y, we get the form of the normal equaitons:\n",
    "\n",
    "$$\n",
    " (\\mathbf{A}^{T}\\mathbf{A})^{-1} \\mathbf{A}^{T}\\mathbf{y} = \\mathbf{x} \\tag{8}\n",
    "$$"
   ]
  },
  {
   "cell_type": "markdown",
   "metadata": {},
   "source": [
    "### Closed-Form Solution - Normal Equations\n",
    "\n",
    "In this subsection we will plot $g(x)$ to reveal what the gradient of the mean squared error function $f(x)$ with respect to x (denoted $\\nabla_{\\mathbf{x}} f(\\mathbf{x})$) looks like. We must first start by transforming our function representation in to a more linear algebra friendly form -- we use the function linearFn above to represent our linear functions. \n",
    "\n",
    "We would like our linear function to be in the form \n",
    "\n",
    "$$\n",
    "\\mathbf{A}\\mathbf{X}\n",
    "$$\n",
    "\n",
    "Where A is a vector denoting the slope and y-intercept of our regression line, and x is the argument to our funciton. This requires us to augment the input vector x with a 1, so the vector math works out right. If this confuses you, see the notebook *Matrix as a Function & Plotting Vectors*. We will show how this works with sympy's symbolic algebra functions:"
   ]
  },
  {
   "cell_type": "code",
   "execution_count": null,
   "metadata": {
    "collapsed": true
   },
   "outputs": [],
   "source": []
  }
 ],
 "metadata": {
  "kernelspec": {
   "display_name": "Python 3",
   "language": "python",
   "name": "python3"
  },
  "language_info": {
   "codemirror_mode": {
    "name": "ipython",
    "version": 3
   },
   "file_extension": ".py",
   "mimetype": "text/x-python",
   "name": "python",
   "nbconvert_exporter": "python",
   "pygments_lexer": "ipython3",
   "version": "3.5.3"
  }
 },
 "nbformat": 4,
 "nbformat_minor": 2
}
