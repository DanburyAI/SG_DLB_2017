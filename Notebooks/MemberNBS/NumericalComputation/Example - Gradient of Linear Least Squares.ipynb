{
 "cells": [
  {
   "cell_type": "markdown",
   "metadata": {},
   "source": [
    "### Example - Gradient of Linear Least Squares\n",
    "\n",
    "suppose we have a fixed matrix and vector $A$ $b$:\n",
    "\n",
    "$$\n",
    "\\begin{align}\n",
    "\\mathbf{A} = \\begin{bmatrix}A_{00}&A_{01}\\\\A_{10}&A_{11}\\\\ \\end{bmatrix} && \\tag 1\\\\\n",
    "\\mathbf{b} = \\begin{bmatrix}b_{0}\\\\b_{1}\\\\ \\end{bmatrix} && \\tag 2\\\\\n",
    "\\end{align}\n",
    "$$\n",
    "\n",
    "and let:\n",
    "\n",
    "$$\n",
    "\\begin{align}\n",
    "f(\\mathbf{x}) = \\frac{1}{2} \\lVert \\mathbf{A}\\mathbf{x} - \\mathbf{b} \\rVert^{2}_{2} && \\tag 3\\\\\n",
    "g(\\mathbf{x}) = \\mathbf{A}^{T}(\\mathbf{A}\\mathbf{x} - \\mathbf{b})  && \\tag 4\\\\\n",
    "\\end{align}\n",
    "$$\n",
    "\n",
    "prove the following statement:\n",
    "\n",
    "$$\n",
    "\\nabla_{\\mathbf{x}} f(\\mathbf{x}) = g(\\mathbf{x})\n",
    "$$\n",
    "\n",
    "proof:\n",
    "\n",
    "suppose we have an arbitrary vector $v$.\n",
    "\n",
    "$$\n",
    "\\mathbf{v} = \\begin{bmatrix}v_{0}\\\\v_{1}\\\\ \\end{bmatrix}\n",
    "$$\n",
    "\n",
    "$f(v)$ reduces to the following by simple arithmetic\n",
    "\n",
    "$$\n",
    "\\begin{align}\n",
    "f(\\mathbf{v}) = \\frac{1}{2} ( A_{00}v_{0} + A_{01}v_{1} - b_{0} )^{2} + \\frac{1}{2} ( A_{10}v_{0} + A_{11}v_{1} - b_{1} )^{2} && \\tag 5\\\\ \n",
    "\\end{align}\n",
    "$$\n",
    "\n",
    "the partial derivative of f wrt $v_0$ is computed by\n",
    "\n",
    "$$\n",
    "\\begin{align}\n",
    "\\frac{\\partial{f}}{\\partial{v_{0}}} & = \\frac{1}{2} \\frac{\\partial}{\\partial{v_{0}}} (( A_{00}v_{0} + A_{01}v_{1} - b_{0} )^{2}) + \\frac{1}{2} \\frac{\\partial}{\\partial{v_{0}}} (( A_{10}v_{0} + A_{11}v_{1} - b_{1} )^{2}) && \\tag 6\\\\\n",
    "& = \\frac{1}{2} 2 ( A_{00}v_{0} + A_{01}v_{1} - b_{0} ) \\frac{\\partial}{\\partial{v_{0}}} ( A_{00}v_{0} + A_{01}v_{1} - b_{0} ) + \\frac{1}{2} 2 ( A_{10}v_{0} + A_{11}v_{1} - b_{1} ) \\frac{\\partial}{\\partial{v_{0}}} ( A_{10}v_{0} + A_{11}v_{1} - b_{1} ) && \\tag 7\\\\ \n",
    "& = A_{00}( A_{00}v_{0} + A_{01}v_{1} - b_{0} ) + A_{10} (A_{10}v_{0} + A_{11}v_{1} - b_{1}) && \\tag 8\\\\\n",
    "\\end{align}\n",
    "$$\n",
    "\n",
    "in line 6 we've used one application of the [sum rule](https://en.wikipedia.org/wiki/Sum_rule_in_differentiation) followed by two applications of the [constant multiple rule](https://en.wikipedia.org/wiki/Constant_multiple_rule) (one for each term in the addition). in line 7 we've used the chain rule twice (one for each term). in line 8 we simplify and use the sum rule a few more times. The partial derivative of f wrt $v_1$ is computed in a similar way:\n",
    "\n",
    "$$\n",
    "\\begin{align}\n",
    "\\frac{\\partial{f}}{\\partial{v_{1}}} & = A_{01}( A_{00}v_{0} + A_{01}v_{1} - b_{0} ) + A_{11} (A_{10}v_{0} + A_{11}v_{1} - b_{1}) && \\tag 9\\\\\n",
    "\\end{align}\n",
    "$$\n",
    "\n",
    "at this point, we'vw computed the gradient of $f(v)$\n",
    "\n",
    "$$\n",
    "\\begin{align}\n",
    "\\nabla_{\\mathbf{v}}f(\\mathbf{v}) = \\begin{bmatrix}A_{00}( A_{00}v_{0} + A_{01}v_{1} - b_{0} ) + A_{10} (A_{10}v_{0} + A_{11}v_{1} - b_{1})\\\\A_{01}( A_{00}v_{0} + A_{01}v_{1} - b_{0} ) + A_{11} (A_{10}v_{0} + A_{11}v_{1} - b_{1})\\\\ \\end{bmatrix} && \\tag{10}\\\\\n",
    "\\end{align}\n",
    "$$\n",
    "\n",
    "we can factorize this expression as follows\n",
    "\n",
    "$$\n",
    "\\begin{align}\n",
    "\\nabla_{\\mathbf{v}}f(\\mathbf{v}) & = \\begin{bmatrix}A_{00}&A_{10}\\\\A_{01}&A_{11}\\\\ \\end{bmatrix} \\begin{bmatrix}A_{00}v_{0} + A_{01}v_{1} - b_{0}\\\\A_{10}v_{0} + A_{11}v_{1} - b_{1}\\\\ \\end{bmatrix} && \\tag{11}\\\\\n",
    "& = \\mathbf{A}^T(\\mathbf{A}\\mathbf{x} - \\mathbf{b}) && \\tag{qed}\\\\\n",
    "\\end{align}\n",
    "$$\n"
   ]
  },
  {
   "cell_type": "code",
   "execution_count": 1,
   "metadata": {
    "collapsed": true
   },
   "outputs": [],
   "source": [
    "%matplotlib inline\n",
    "\n",
    "import sympy as sp\n",
    "import matplotlib.pyplot as plt\n",
    "import numpy as np\n",
    "\n",
    "from sympy import MatrixSymbol, Matrix\n",
    "\n",
    "sp.init_printing(order='rev-lex',use_latex='mathjax')"
   ]
  },
  {
   "cell_type": "code",
   "execution_count": 2,
   "metadata": {
    "collapsed": false
   },
   "outputs": [
    {
     "data": {
      "text/latex": [
       "$$\\left[\\begin{matrix}- b_{0, 0} + A_{0, 1} x_{1, 0} + A_{0, 0} x_{0, 0}\\\\- b_{1, 0} + A_{1, 1} x_{1, 0} + A_{1, 0} x_{0, 0}\\end{matrix}\\right]$$"
      ],
      "text/plain": [
       "⎡-b₀₀ + A₀₁⋅x₁₀ + A₀₀⋅x₀₀⎤\n",
       "⎢                        ⎥\n",
       "⎣-b₁₀ + A₁₁⋅x₁₀ + A₁₀⋅x₀₀⎦"
      ]
     },
     "execution_count": 2,
     "metadata": {},
     "output_type": "execute_result"
    }
   ],
   "source": [
    "A = MatrixSymbol('A', 2, 2)\n",
    "x = MatrixSymbol('x', 2, 1)\n",
    "b = MatrixSymbol('b', 2, 1)\n",
    "\n",
    "Ax_minus_b_vector = (A*x - b)\n",
    "Ax_minus_b_vector.as_explicit()"
   ]
  },
  {
   "cell_type": "markdown",
   "metadata": {},
   "source": [
    "i cant get differentiation to simplify properly using sympy's Matrix symbols. I have transformed A,x, and b to a componentwise representation."
   ]
  },
  {
   "cell_type": "code",
   "execution_count": 3,
   "metadata": {
    "collapsed": false
   },
   "outputs": [],
   "source": [
    "def l2_norm_on_R2(v_component_0, v_component_1):\n",
    "    return sp.sqrt(sp.Add(sp.Pow(v_component_0,2),sp.Pow(v_component_1,2)))\n",
    "\n",
    "def create_f_x(v_component_0,v_component_1):\n",
    "    return sp.Mul(sp.Rational(1, 2), sp.Pow(l2_norm_on_R2(v_component_0,v_component_1), 2))\n",
    "\n",
    "A_00,A_01,A_10,A_11 = sp.symbols('A_00 A_01 A_10 A_11')\n",
    "x_0, x_1 = sp.symbols('x_0 x_1')\n",
    "b_0, b_1 = sp.symbols('b_0 b_1')\n",
    "\n",
    "Ax_minus_b_0 = A_00 * x_0 + A_01 * x_1 - b_0\n",
    "Ax_minus_b_1 = A_10 * x_0 + A_11 * x_1 - b_1"
   ]
  },
  {
   "cell_type": "markdown",
   "metadata": {
    "collapsed": false
   },
   "source": [
    "lets inspect the output of l2_norm_on_R2"
   ]
  },
  {
   "cell_type": "code",
   "execution_count": 4,
   "metadata": {
    "collapsed": false
   },
   "outputs": [
    {
     "data": {
      "text/latex": [
       "$$\\sqrt{\\left(- b_{1} + A_{11} x_{1} + A_{10} x_{0}\\right)^{2} + \\left(- b_{0} + A_{01} x_{1} + A_{00} x_{0}\\right)^{2}}$$"
      ],
      "text/plain": [
       "   _____________________________________________________\n",
       "  ╱                        2                          2 \n",
       "╲╱  (-b₁ + A₁₁⋅x₁ + A₁₀⋅x₀)  + (-b₀ + A₀₁⋅x₁ + A₀₀⋅x₀)  "
      ]
     },
     "execution_count": 4,
     "metadata": {},
     "output_type": "execute_result"
    }
   ],
   "source": [
    "l2_norm_on_R2(Ax_minus_b_0, Ax_minus_b_1)"
   ]
  },
  {
   "cell_type": "markdown",
   "metadata": {},
   "source": [
    "next lets inspect the final version of the function $f$ for which we want to find the gradient. sympy does some simplification for us."
   ]
  },
  {
   "cell_type": "code",
   "execution_count": 5,
   "metadata": {
    "collapsed": false
   },
   "outputs": [
    {
     "data": {
      "text/latex": [
       "$$\\frac{1}{2} \\left(- b_{1} + A_{11} x_{1} + A_{10} x_{0}\\right)^{2} + \\frac{1}{2} \\left(- b_{0} + A_{01} x_{1} + A_{00} x_{0}\\right)^{2}$$"
      ],
      "text/plain": [
       "                       2                          2\n",
       "(-b₁ + A₁₁⋅x₁ + A₁₀⋅x₀)    (-b₀ + A₀₁⋅x₁ + A₀₀⋅x₀) \n",
       "──────────────────────── + ────────────────────────\n",
       "           2                          2            "
      ]
     },
     "execution_count": 5,
     "metadata": {},
     "output_type": "execute_result"
    }
   ],
   "source": [
    "f_x = create_f_x(Ax_minus_b_0, Ax_minus_b_1)\n",
    "f_x"
   ]
  },
  {
   "cell_type": "code",
   "execution_count": 6,
   "metadata": {
    "collapsed": false
   },
   "outputs": [
    {
     "data": {
      "text/latex": [
       "$$A_{10} \\left(- b_{1} + A_{11} x_{1} + A_{10} x_{0}\\right) + A_{00} \\left(- b_{0} + A_{01} x_{1} + A_{00} x_{0}\\right)$$"
      ],
      "text/plain": [
       "A₁₀⋅(-b₁ + A₁₁⋅x₁ + A₁₀⋅x₀) + A₀₀⋅(-b₀ + A₀₁⋅x₁ + A₀₀⋅x₀)"
      ]
     },
     "execution_count": 6,
     "metadata": {},
     "output_type": "execute_result"
    }
   ],
   "source": [
    "partial_f_wrt_x0 = sp.diff(f_x, x_0)\n",
    "partial_f_wrt_x0"
   ]
  },
  {
   "cell_type": "code",
   "execution_count": 7,
   "metadata": {
    "collapsed": false,
    "scrolled": true
   },
   "outputs": [
    {
     "data": {
      "text/latex": [
       "$$A_{11} \\left(- b_{1} + A_{11} x_{1} + A_{10} x_{0}\\right) + A_{01} \\left(- b_{0} + A_{01} x_{1} + A_{00} x_{0}\\right)$$"
      ],
      "text/plain": [
       "A₁₁⋅(-b₁ + A₁₁⋅x₁ + A₁₀⋅x₀) + A₀₁⋅(-b₀ + A₀₁⋅x₁ + A₀₀⋅x₀)"
      ]
     },
     "execution_count": 7,
     "metadata": {},
     "output_type": "execute_result"
    }
   ],
   "source": [
    "partial_f_wrt_x1 = sp.diff(f_x, x_1)\n",
    "partial_f_wrt_x1"
   ]
  },
  {
   "cell_type": "code",
   "execution_count": 8,
   "metadata": {
    "collapsed": false
   },
   "outputs": [
    {
     "data": {
      "text/latex": [
       "$$\\left[\\begin{matrix}A_{10} \\left(- b_{1} + A_{11} x_{1} + A_{10} x_{0}\\right) + A_{00} \\left(- b_{0} + A_{01} x_{1} + A_{00} x_{0}\\right)\\\\A_{11} \\left(- b_{1} + A_{11} x_{1} + A_{10} x_{0}\\right) + A_{01} \\left(- b_{0} + A_{01} x_{1} + A_{00} x_{0}\\right)\\end{matrix}\\right]$$"
      ],
      "text/plain": [
       "⎡A₁₀⋅(-b₁ + A₁₁⋅x₁ + A₁₀⋅x₀) + A₀₀⋅(-b₀ + A₀₁⋅x₁ + A₀₀⋅x₀)⎤\n",
       "⎢                                                         ⎥\n",
       "⎣A₁₁⋅(-b₁ + A₁₁⋅x₁ + A₁₀⋅x₀) + A₀₁⋅(-b₀ + A₀₁⋅x₁ + A₀₀⋅x₀)⎦"
      ]
     },
     "execution_count": 8,
     "metadata": {},
     "output_type": "execute_result"
    }
   ],
   "source": [
    "Matrix([partial_f_wrt_x0, partial_f_wrt_x1])"
   ]
  },
  {
   "cell_type": "code",
   "execution_count": 9,
   "metadata": {
    "collapsed": false,
    "scrolled": true
   },
   "outputs": [
    {
     "data": {
      "text/latex": [
       "$$\\left[\\begin{matrix}A_{1, 0} \\left(- b_{1, 0} + A_{1, 1} x_{1, 0} + A_{1, 0} x_{0, 0}\\right) + A_{0, 0} \\left(- b_{0, 0} + A_{0, 1} x_{1, 0} + A_{0, 0} x_{0, 0}\\right)\\\\A_{1, 1} \\left(- b_{1, 0} + A_{1, 1} x_{1, 0} + A_{1, 0} x_{0, 0}\\right) + A_{0, 1} \\left(- b_{0, 0} + A_{0, 1} x_{1, 0} + A_{0, 0} x_{0, 0}\\right)\\end{matrix}\\right]$$"
      ],
      "text/plain": [
       "⎡A₁₀⋅(-b₁₀ + A₁₁⋅x₁₀ + A₁₀⋅x₀₀) + A₀₀⋅(-b₀₀ + A₀₁⋅x₁₀ + A₀₀⋅x₀₀)⎤\n",
       "⎢                                                               ⎥\n",
       "⎣A₁₁⋅(-b₁₀ + A₁₁⋅x₁₀ + A₁₀⋅x₀₀) + A₀₁⋅(-b₀₀ + A₀₁⋅x₁₀ + A₀₀⋅x₀₀)⎦"
      ]
     },
     "execution_count": 9,
     "metadata": {},
     "output_type": "execute_result"
    }
   ],
   "source": [
    "(A.T * (A*x - b)).as_explicit()"
   ]
  }
 ],
 "metadata": {
  "kernelspec": {
   "display_name": "Python 2",
   "language": "python",
   "name": "python2"
  },
  "language_info": {
   "codemirror_mode": {
    "name": "ipython",
    "version": 2
   },
   "file_extension": ".py",
   "mimetype": "text/x-python",
   "name": "python",
   "nbconvert_exporter": "python",
   "pygments_lexer": "ipython2",
   "version": "2.7.13"
  }
 },
 "nbformat": 4,
 "nbformat_minor": 2
}
