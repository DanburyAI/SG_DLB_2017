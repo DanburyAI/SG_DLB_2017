{
 "cells": [
  {
   "cell_type": "code",
   "execution_count": 5,
   "metadata": {
    "collapsed": false
   },
   "outputs": [],
   "source": [
    "%matplotlib inline\n",
    "\n",
    "import matplotlib.pyplot as plt\n",
    "import numpy as np\n",
    "import sympy as sp\n"
   ]
  },
  {
   "cell_type": "markdown",
   "metadata": {},
   "source": [
    "\n",
    "\n",
    "#### Symmetric Matrix\n",
    "\n",
    "Denote by $\\langle \\cdot ,\\cdot \\rangle $ the standard inner product on $R^{n}$. \n",
    "The real n-by-n matrix $A$ is symmetric if and only if\n",
    "\n",
    "$$\n",
    "\\langle Ax,y\\rangle =\\langle x,Ay\\rangle \\quad \\forall x,y\\in {\\mathbb {R}}^{n}.\n",
    "$$\n",
    "\n",
    "##### related/interesting\n",
    "\n",
    "* [self-adjoint operator](https://en.wikipedia.org/wiki/Self-adjoint_operator)\n",
    "* [symmetric matrix](https://en.wikipedia.org/wiki/Symmetric_matrix) - $ A = A^{T} $ where a is $A$ square matrix.\n",
    "\n",
    "#### eigenvector of a matrix\n",
    "\n",
    "A (non-zero) vector $v$ of dimension N is an eigenvector of a square (N×N) matrix $A$ if it satisfies the linear equation $ \\mathbf {A} \\mathbf {v} =\\lambda \\mathbf {v} $ where $\\lambda $ is a scalar, termed the eigenvalue corresponding to $v$.\n",
    "\n",
    "#### eigen decomposition of a matrix\n",
    "\n",
    "Let $A$ be a square (N×N) matrix with N linearly independent eigenvectors, $ q_{i}\\,\\,(i=1,\\dots ,N).$ Then $A$ can be factorized as $ \\mathbf {A} =\\mathbf {Q} \\mathbf {\\Lambda } \\mathbf {Q} ^{-1} $\n",
    "\n",
    "where $Q$ is the square (N×N) matrix whose ith column is the eigenvector $ q_{i} $ of $A$ and $Lambda$ is the diagonal matrix whose diagonal elements are the corresponding eigenvalues, i.e., $\\Lambda _{ii}=\\lambda _{i}$. Note that only [diagonalizable matrices](https://en.wikipedia.org/wiki/Diagonalizable_matrix) can be factorized in this way.\n",
    "\n",
    "#### eigen decomposition of a real symmetric matrix\n",
    "\n",
    "As a special case, for every N×N real symmetric matrix, the eigenvalues are real and the eigenvectors can be chosen such that they are orthogonal to each other. Thus a real symmetric matrix A can be decomposed as $ \\mathbf {A} =\\mathbf {Q} \\mathbf {\\Lambda } \\mathbf {Q} ^{T} $ where $ Q $ is an orthogonal matrix, and $\\Lambda$ is a diagonal matrix whose entries are the eigenvalues of A.\n",
    "\n",
    "https://en.wikipedia.org/wiki/Symmetric_matrix#Hessian\n",
    "  * https://en.wikipedia.org/wiki/Quadratic_form\n",
    "     * https://en.wikipedia.org/wiki/Sylvester%27s_law_of_inertia\n",
    "     * https://en.wikipedia.org/wiki/Definite_quadratic_form\n",
    "  * https://en.wikipedia.org/wiki/Taylor%27s_theorem\n",
    "\n",
    "\n",
    "https://en.wikipedia.org/wiki/Positive-definite_matrix\n",
    "\n",
    "there are a handful of ways to [characterize](https://en.wikipedia.org/wiki/Positive-definite_matrix#Characterizations) 'positive definitness' of a (sqaure matrix) $M$\n",
    "    * All its eigenvalues are positive\n",
    "    * It is the Gram matrix of linearly independent vectors.\n",
    "    * It has a unique Cholesky decomposition\n",
    "\n",
    "https://en.wikipedia.org/wiki/Positive-definite_matrix#Positive_semidefinite\n",
    "\n",
    "\n",
    "\n",
    "#### taylor series\n",
    "\n",
    "Taylor series are used to define functions and \"operators\" in diverse areas of mathematics. In particular, this is true in areas where the classical definitions of functions break down. For example, using Taylor series, one may define analytical functions of matrices and operators, such as the matrix exponential or matrix logarithm.\n"
   ]
  }
 ],
 "metadata": {
  "kernelspec": {
   "display_name": "Python 2",
   "language": "python",
   "name": "python2"
  },
  "language_info": {
   "codemirror_mode": {
    "name": "ipython",
    "version": 2
   },
   "file_extension": ".py",
   "mimetype": "text/x-python",
   "name": "python",
   "nbconvert_exporter": "python",
   "pygments_lexer": "ipython2",
   "version": "2.7.13"
  }
 },
 "nbformat": 4,
 "nbformat_minor": 2
}
