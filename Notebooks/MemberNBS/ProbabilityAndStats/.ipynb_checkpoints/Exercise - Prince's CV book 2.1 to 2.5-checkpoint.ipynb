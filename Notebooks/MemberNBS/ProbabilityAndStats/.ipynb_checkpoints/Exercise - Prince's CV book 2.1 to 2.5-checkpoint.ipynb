{
 "cells": [
  {
   "cell_type": "markdown",
   "metadata": {},
   "source": [
    "### 2.1\n",
    "\n",
    "Give a real world example of a joint distribution $Pr(x,y)$ where $x$ is discrete and $y$ is continuous."
   ]
  },
  {
   "cell_type": "markdown",
   "metadata": {},
   "source": [
    "### 2.2\n",
    "\n",
    "What remains if I marginalize a joint distribution $Pr(v,w,x,y,z)$ over five variables with respect to variables $w$ and $y$? What remains if i marginalize the resulting distribution with respect to $v$?"
   ]
  },
  {
   "cell_type": "markdown",
   "metadata": {},
   "source": [
    "### 2.3\n",
    "\n",
    "show that the following relation is true:\n",
    "\n",
    "$$\n",
    "Pr(w,x,y,z) = Pr(x,y)Pr(z|w,x,y)Pr(w|x,y)\n",
    "$$"
   ]
  },
  {
   "cell_type": "markdown",
   "metadata": {},
   "source": [
    "### 2.4\n",
    "\n",
    "In my pocket there are two coins. Coin 1 is unbiased, so the likelihood $Pr(h = 1 | c = 1)$ of getting heads is 0.5 and the likelihood $Pr(h = 0 | c = 1)$ of getting tails is 0.5. Coin 2 is biased so the likelihood $Pr(h = 1 | c = 2)$ of getting heads is 0.8 and the likelihood $Pr(h = 0 | c = 2)$ of getting tails is 0.2. I reach into my pocket and draw one of the coins at random. there is an equal prior probability I might have picked either coin. I flip the coin and observe a head. Use Bayes' rule to compute the posterior probability that I chose coin 2."
   ]
  },
  {
   "cell_type": "markdown",
   "metadata": {},
   "source": [
    "### 2.5\n",
    "\n",
    "If variables $x$ and $y$ are independent and variables $x$ and $z$ are independent, does it follow that variables $y$ and $z$ are independent?"
   ]
  }
 ],
 "metadata": {
  "kernelspec": {
   "display_name": "Python 2",
   "language": "python",
   "name": "python2"
  },
  "language_info": {
   "codemirror_mode": {
    "name": "ipython",
    "version": 2
   },
   "file_extension": ".py",
   "mimetype": "text/x-python",
   "name": "python",
   "nbconvert_exporter": "python",
   "pygments_lexer": "ipython2",
   "version": "2.7.13"
  }
 },
 "nbformat": 4,
 "nbformat_minor": 2
}
