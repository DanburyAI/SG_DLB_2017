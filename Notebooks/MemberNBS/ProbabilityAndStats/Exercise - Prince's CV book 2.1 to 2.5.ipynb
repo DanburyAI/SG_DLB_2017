{
 "cells": [
  {
   "cell_type": "markdown",
   "metadata": {},
   "source": [
    "### 2.1\n",
    "\n",
    "Give a real world example of a joint distribution $Pr(x,y)$ where $x$ is discrete and $y$ is continuous.\n",
    "\n",
    "##### answer\n",
    "\n",
    "Let $x$ be a discrete random variable that represents a weather forcast, suppose it has two possible values $\\{rainy,sunny\\}$. Let $y$ be a continuous random variable that represents tempurature. We could then define a joint probability $P(x,y)$ that models the interaction between weather forcasts and tempurature. The definition of $P(x,y)$ will depend on what assumptions we (as the modeler) make. \n",
    "\n",
    "Suppose we assume that the weather forcast and the tempurature are independent, then an appropriate course of action would be:\n",
    "\n",
    "1. define $P(x)$ and $P(y)$ individually\n",
    "2. define $P(x,y) = P(x)P(y)$\n",
    "\n",
    "Suppose we assume that the weather forcast and the tempurature depend on each other in the following way - \"if the forecast is rainy, then the tempurature is relativly lower\". We could then define $P(x,y)$ by:\n",
    "\n",
    "1. defining a prior probability over forcasts $P(x) \\sim Bern_x(\\lambda)$ where $P(x=0)$ gives the probability of a rainy forecast and $P(x=1)$ gives a probability of a sunny forecast.\n",
    "2. defining two gaussian distributions $P(y|x=0)$ and $P(y|x=1)$ where the expected value of the first is less than the expected value of the second. \n"
   ]
  },
  {
   "cell_type": "markdown",
   "metadata": {},
   "source": [
    "### 2.2\n",
    "\n",
    "What remains if I marginalize a joint distribution $Pr(v,w,x,y,z)$ over five variables with respect to variables $w$ and $y$? What remains if i marginalize the resulting distribution with respect to $v$?\n",
    "\n",
    "##### answer\n",
    "\n",
    "note: I'm interpreting 'with respect to' as the indexes of the sum in the marginalization procedure\n",
    "\n",
    "1. P(v,x,z) - w and y are the indexes of the sum\n",
    "2. P(x,z) - v is the index of the sum\n",
    "\n"
   ]
  },
  {
   "cell_type": "markdown",
   "metadata": {},
   "source": [
    "### 2.3\n",
    "\n",
    "show that the following relation is true:\n",
    "\n",
    "$$\n",
    "Pr(w,x,y,z) = Pr(x,y)Pr(z|w,x,y)Pr(w|x,y)\n",
    "$$\n",
    "\n",
    "proof:\n",
    "\n",
    "$$\n",
    "Pr(x,y)Pr(z|w,x,y)Pr(w|x,y)\n",
    "& = Pr(z|w,x,y)Pr(w|x,y)Pr(x,y) &&\\text{rearrange} \\tag 1\\\\\n",
    "& = Pr(z|w,x,y)Pr(w,x,y) &&\\text{prince 2.5} \\tag 2\\\\\n",
    "& = \\frac{Pr(w,x,y,z)}{Pr(w,x,y)}Pr(w,x,y) &&\\text{bayes rule on left factor of (2)} \\tag 3\\\\\n",
    "& = Pr(w,x,y,z) &&\\text{terms cancel} \\tag 4\\\\\n",
    "$$\n",
    "\n"
   ]
  },
  {
   "cell_type": "markdown",
   "metadata": {},
   "source": [
    "### 2.4\n",
    "\n",
    "In my pocket there are two coins. Coin 1 is unbiased, so the likelihood $Pr(h = 1 | c = 1)$ of getting heads is 0.5 and the likelihood $Pr(h = 0 | c = 1)$ of getting tails is 0.5. Coin 2 is biased so the likelihood $Pr(h = 1 | c = 2)$ of getting heads is 0.8 and the likelihood $Pr(h = 0 | c = 2)$ of getting tails is 0.2. I reach into my pocket and draw one of the coins at random. there is an equal prior probability I might have picked either coin. I flip the coin and observe a head. Use Bayes' rule to compute the posterior probability that I chose coin 2.\n",
    "\n",
    "##### answer\n",
    "\n",
    "for clarity, lets rewrite bayes rule with $h$ and $c$ values substituted in:\n",
    "\n",
    "$$\n",
    "P(c|h) = \\frac{P(h|c)P(c)}{P(h)}\n",
    "$$\n",
    "\n",
    "the task is to compute the following probability:\n",
    "\n",
    "$$\n",
    "P(c=2|h=1)\n",
    "$$\n",
    "\n",
    "first lets compute the denomenator $P(h=1)$\n",
    "\n",
    "$$\n",
    "\\begin{align}\n",
    "P(h=1)\n",
    "& = \\sum_{C} P(h=1,c) &&\\text{sum rule} \\tag 1\\\\\n",
    "& = \\sum_{C} P(h=1|c)P(c) &&\\text{product rule} \\tag 2\\\\\n",
    "& = P(h=1|c=1)P(c=1) + P(h=1|c=2)P(c=2) &&\\text{expand sum} \\tag 3\\\\\n",
    "& = (0.5)(0.5) + (0.8)(0.5) &&\\text{substitute given likelihood and prior probabilities} \\tag 4\\\\\n",
    "& = 0.65\n",
    "\\end{align}\n",
    "$$\n",
    "\n",
    "even though its not necessary, lets compute P(h=0) as a sanity check (it should equal 0.35)\n",
    "\n",
    "$$\n",
    "\\begin{align}\n",
    "P(h=0)\n",
    "& = \\sum_{C} P(h=0,c) &&\\text{sum rule} \\tag 1\\\\\n",
    "& = \\sum_{C} P(h=0|c)P(c) &&\\text{product rule} \\tag 2\\\\\n",
    "& = P(h=0|c=1)P(c=1) + P(h=0|c=2)P(c=2) &&\\text{expand sum} \\tag 3\\\\\n",
    "& = (0.5)(0.5) + (0.2)(0.5) &&\\text{substitute given likelihood and prior probabilities} \\tag 4\\\\\n",
    "& = 0.35\n",
    "\\end{align}\n",
    "$$\n",
    "\n",
    "next we compute the numerator\n",
    "\n",
    "$$\n",
    "\\begin{align}\n",
    "P(h=1|c=2)P(c=2)\n",
    "& = (0.8)P(c=2) &&\\text{substitute given likelihood probability} \\tag 1\\\\\n",
    "& = (0.8)(0.5) &&\\text{substitute given prior probability} \\tag 2\\\\\n",
    "& = 0.4\n",
    "\\end{align}\n",
    "$$\n",
    "\n",
    "putting it all together:\n",
    "\n",
    "$$\n",
    "P(c=2|h=1) = \\frac{P(h=1|c=2)P(c=2)}{P(h=1)} = \\frac{.4}{.65} = 0.62\n",
    "$$\n",
    "\n",
    "so there is a 62% chance that the coin drawn from the pocket is coin 2 given that it was flipped and heads was observed."
   ]
  },
  {
   "cell_type": "markdown",
   "metadata": {},
   "source": [
    "### 2.5\n",
    "\n",
    "If variables $x$ and $y$ are independent and variables $x$ and $z$ are independent, does it follow that variables $y$ and $z$ are independent?\n",
    "\n",
    "here i interpret independent as 'pairwise independent'\n",
    "\n",
    "proof\n",
    "\n"
   ]
  },
  {
   "cell_type": "code",
   "execution_count": 9,
   "metadata": {
    "collapsed": false
   },
   "outputs": [
    {
     "data": {
      "text/plain": [
       "[(0, 0, 0),\n",
       " (0, 0, 1),\n",
       " (0, 1, 0),\n",
       " (0, 1, 1),\n",
       " (1, 0, 0),\n",
       " (1, 0, 1),\n",
       " (1, 1, 0),\n",
       " (1, 1, 1)]"
      ]
     },
     "execution_count": 9,
     "metadata": {},
     "output_type": "execute_result"
    }
   ],
   "source": [
    "import itertools\n",
    "import pandas as pd\n",
    "\n",
    "[p for p in itertools.product([0,1],[0,1],[0,1])]\n"
   ]
  },
  {
   "cell_type": "code",
   "execution_count": 12,
   "metadata": {
    "collapsed": false
   },
   "outputs": [
    {
     "data": {
      "text/html": [
       "<div>\n",
       "<table border=\"1\" class=\"dataframe\">\n",
       "  <thead>\n",
       "    <tr style=\"text-align: right;\">\n",
       "      <th></th>\n",
       "      <th>x</th>\n",
       "      <th>y</th>\n",
       "      <th>z</th>\n",
       "      <th>prob</th>\n",
       "    </tr>\n",
       "  </thead>\n",
       "  <tbody>\n",
       "    <tr>\n",
       "      <th>0</th>\n",
       "      <td>0</td>\n",
       "      <td>0</td>\n",
       "      <td>0</td>\n",
       "      <td>0</td>\n",
       "    </tr>\n",
       "    <tr>\n",
       "      <th>1</th>\n",
       "      <td>0</td>\n",
       "      <td>0</td>\n",
       "      <td>1</td>\n",
       "      <td>0</td>\n",
       "    </tr>\n",
       "    <tr>\n",
       "      <th>2</th>\n",
       "      <td>0</td>\n",
       "      <td>1</td>\n",
       "      <td>0</td>\n",
       "      <td>0</td>\n",
       "    </tr>\n",
       "    <tr>\n",
       "      <th>3</th>\n",
       "      <td>0</td>\n",
       "      <td>1</td>\n",
       "      <td>1</td>\n",
       "      <td>0</td>\n",
       "    </tr>\n",
       "    <tr>\n",
       "      <th>4</th>\n",
       "      <td>1</td>\n",
       "      <td>0</td>\n",
       "      <td>0</td>\n",
       "      <td>0</td>\n",
       "    </tr>\n",
       "    <tr>\n",
       "      <th>5</th>\n",
       "      <td>1</td>\n",
       "      <td>0</td>\n",
       "      <td>1</td>\n",
       "      <td>0</td>\n",
       "    </tr>\n",
       "    <tr>\n",
       "      <th>6</th>\n",
       "      <td>1</td>\n",
       "      <td>1</td>\n",
       "      <td>0</td>\n",
       "      <td>0</td>\n",
       "    </tr>\n",
       "    <tr>\n",
       "      <th>7</th>\n",
       "      <td>1</td>\n",
       "      <td>1</td>\n",
       "      <td>1</td>\n",
       "      <td>0</td>\n",
       "    </tr>\n",
       "  </tbody>\n",
       "</table>\n",
       "</div>"
      ],
      "text/plain": [
       "   x  y  z  prob\n",
       "0  0  0  0     0\n",
       "1  0  0  1     0\n",
       "2  0  1  0     0\n",
       "3  0  1  1     0\n",
       "4  1  0  0     0\n",
       "5  1  0  1     0\n",
       "6  1  1  0     0\n",
       "7  1  1  1     0"
      ]
     },
     "execution_count": 12,
     "metadata": {},
     "output_type": "execute_result"
    }
   ],
   "source": [
    "df = pd.DataFrame([p for p in itertools.product([0,1],[0,1],[0,1],[0])],\n",
    "                  columns=['x','y','z','prob'])\n",
    "df"
   ]
  }
 ],
 "metadata": {
  "kernelspec": {
   "display_name": "Python 2",
   "language": "python",
   "name": "python2"
  },
  "language_info": {
   "codemirror_mode": {
    "name": "ipython",
    "version": 2
   },
   "file_extension": ".py",
   "mimetype": "text/x-python",
   "name": "python",
   "nbconvert_exporter": "python",
   "pygments_lexer": "ipython2",
   "version": "2.7.13"
  }
 },
 "nbformat": 4,
 "nbformat_minor": 2
}
