{
 "cells": [
  {
   "cell_type": "markdown",
   "metadata": {
    "collapsed": true
   },
   "source": [
    "# Expectation, Variance, and Covariance\n",
    "** October 2017 **\n",
    "\n",
    "** Andrew Riberio @ [AndrewRib.com](http://www.andrewrib.com) **\n",
    "\n",
    "Resources\n",
    "* http://www.deeplearningbook.org/contents/prob.html"
   ]
  },
  {
   "cell_type": "markdown",
   "metadata": {},
   "source": [
    "## Libraries"
   ]
  },
  {
   "cell_type": "code",
   "execution_count": 1,
   "metadata": {
    "collapsed": true
   },
   "outputs": [],
   "source": [
    "import sympy as sp\n",
    "import scipy.stats as stat\n",
    "import matplotlib.pyplot as plt\n",
    "from scipy.integrate import quad\n",
    "import numpy as np\n",
    "from IPython.display import display\n",
    "\n",
    "# Pretty Latex printing for Sympy with an argument to show the polynomials the way we write them \n",
    "# from small term to larger. May give you problems if you don't have a latex distribution. \n",
    "sp.init_printing(order='lex',use_latex='mathjax')"
   ]
  },
  {
   "cell_type": "markdown",
   "metadata": {},
   "source": [
    "## Expectation\n",
    "In this section we will define an expected value function for both discrete and continuous random variables, then analyse the expected values of random variables belonging to the normal and categorical distributions. \n",
    "\n",
    "\n",
    "Resources\n",
    "* https://docs.scipy.org/doc/scipy-0.14.0/reference/generated/scipy.stats.rv_continuous.expect.html\n",
    "* https://docs.scipy.org/doc/scipy-0.19.1/reference/generated/scipy.stats.rv_discrete.expect.html\n",
    "* https://en.wikipedia.org/wiki/Expected_value\n",
    "* https://docs.scipy.org/doc/numpy-1.13.0/reference/generated/numpy.random.normal.html"
   ]
  },
  {
   "cell_type": "code",
   "execution_count": 2,
   "metadata": {
    "collapsed": true
   },
   "outputs": [],
   "source": [
    "# If we do not pass in a discrete x vector, then we assume we are dealing with a continuous pdf. \n",
    "def expect(xDistFn,xs=None,fn=(lambda x: x)):\n",
    "    if xs: \n",
    "        z = lambda x: xDistFn(x) * fn(x)\n",
    "        result = 0\n",
    "        \n",
    "        for x in xs:\n",
    "            result += z(x)\n",
    "            \n",
    "        return result\n",
    "            \n",
    "    else:\n",
    "        z = lambda x: xDistFn(x) * fn(x)\n",
    "        \n",
    "        return quad(z,-np.inf,np.inf)[0]"
   ]
  },
  {
   "cell_type": "markdown",
   "metadata": {},
   "source": [
    "Let's start by analysing the expected value of a random variable following the normal distribution paramaterized by the default (mean = 0, and standard deviation = 1 ):"
   ]
  },
  {
   "cell_type": "code",
   "execution_count": 3,
   "metadata": {},
   "outputs": [
    {
     "name": "stdout",
     "output_type": "stream",
     "text": [
      "Expected value of the normal dist with our fn: 0.0\n",
      "Expected value of the normal dist with built in fn: 0.0\n"
     ]
    }
   ],
   "source": [
    "# We can compute the expected value of the normal distribution with our function, but also with the \n",
    "# built in expected value function provided with MOST distributions in scipy.stats\n",
    "print(\"Expected value of the normal dist with our fn: {0}\".format(expect(stat.norm.pdf)))\n",
    "print(\"Expected value of the normal dist with built in fn: {0}\".format(stat.norm.expect())) "
   ]
  },
  {
   "cell_type": "markdown",
   "metadata": {},
   "source": [
    "As we can see, the expected value is eqaul to the mean. Let's compute the expected value of a normal distribution paramaterized by ( mean = 1 , std = 1 ):"
   ]
  },
  {
   "cell_type": "code",
   "execution_count": 4,
   "metadata": {},
   "outputs": [
    {
     "name": "stdout",
     "output_type": "stream",
     "text": [
      "Expected value of N(1,1): 1.0000000000000027\n"
     ]
    }
   ],
   "source": [
    "print(\"Expected value of N(1,1): {0}\".format(stat.norm(loc=1,scale=1).expect()))"
   ]
  },
  {
   "cell_type": "markdown",
   "metadata": {},
   "source": [
    "In the case of the normal distribution, the expected value will always be equal to the parameterized mean. ( notice we have a precision error here from computing the indefinite integral in the expectation function ). We can actually experimentally show that if we repeatedly sample from the distribution, the average value will converge to the expected value. Let's do this for N(0,1):\n"
   ]
  },
  {
   "cell_type": "code",
   "execution_count": 5,
   "metadata": {},
   "outputs": [
    {
     "data": {
      "image/png": "[encoded data removed]",
      "text/plain": [
       "<matplotlib.figure.Figure at 0x1c2886d9ac8>"
      ]
     },
     "metadata": {},
     "output_type": "display_data"
    }
   ],
   "source": [
    "samples = np.random.normal(0, 1, 10000000)\n",
    "count, bins, ignored = plt.hist(samples, 40, normed=True)\n",
    "plt.show()"
   ]
  },
  {
   "cell_type": "markdown",
   "metadata": {},
   "source": [
    "Now let's consider the expected value of various multinomial distributions. We will start with a special multinomial case where it's the same as a bernoulli distribution: the flip of a coin. "
   ]
  },
  {
   "cell_type": "code",
   "execution_count": 6,
   "metadata": {},
   "outputs": [
    {
     "name": "stdout",
     "output_type": "stream",
     "text": [
      "P(HHH) = 0.12500\n",
      "P(TTT) = 0.12500\n"
     ]
    }
   ],
   "source": [
    "flips = 3\n",
    "coin = stat.multinomial(n=flips,p=[1/2]*2)\n",
    "\n",
    "# The PMF of this function will look like this for two flips:\n",
    "#    H   T\n",
    "# H HH   HT\n",
    "# T TH   TT\n",
    "# \n",
    "# For three flips: \n",
    "#   HH  HT  TH  TT\n",
    "# H HHH HTH THH THH\n",
    "# T HHT HTT THT TTH\n",
    "\n",
    "# Probability of a coin flipping heads/tails three times in a row. \n",
    "print(\"P(HHH) = {0:0.5f}\".format(coin.pmf([3,0])))\n",
    "print(\"P(TTT) = {0:0.5f}\".format(coin.pmf([0,3])))"
   ]
  },
  {
   "cell_type": "markdown",
   "metadata": {},
   "source": [
    "Now to compute the expected value of our bernoulli coin example, we need a way of enumerating all possible states that have a valid probability. This equates to permutations of a vector of size 2 ( which correspond to the number of head and tail flips) for a particular number of flips, each member of which much satisfy the following constraint:  \n",
    "\n",
    "$$\\large count(tails) + count(heads) = flips $$\n",
    "\n",
    "We can do this in a combinatorial mannor with linear algebra as follows: "
   ]
  },
  {
   "cell_type": "code",
   "execution_count": 7,
   "metadata": {
    "collapsed": true
   },
   "outputs": [],
   "source": [
    "# Sympy collapses the symetry of the matrix. ( I.e. in enumX(2,[H,T]) will show HT twic.\n",
    "# It should show TH and HT, but this still works for our purposes.\n",
    "def combX(nFlips,fundamentalVector):\n",
    "    htm = sp.Matrix(fundamentalVector)\n",
    "    r = htm\n",
    "    if nFlips != 1:\n",
    "        \n",
    "        for i in range(nFlips-1):\n",
    "            r = sp.Matrix(sp.flatten(r * htm.T))\n",
    "        \n",
    "    return r\n",
    "\n",
    "# Gets rid of all duplicate entries.\n",
    "def uniqueX(combX_r):\n",
    "    hashDict = {}\n",
    "    res = []\n",
    "    for x_i in combX_r:\n",
    "        if(str(x_i) not in hashDict):\n",
    "            hashDict[str(x_i)] = 1\n",
    "            res.append(x_i)\n",
    "    return sp.Matrix(res)\n",
    "        \n",
    "# Takes in the unique permutations and translate them to numerical vectors. \n",
    "def enumX(unique_xs, mag):\n",
    "    translationIdx = {\"A\":0,\"B\":1,\"C\":2,\"D\":3,\"F\":4,\"G\":5}\n",
    "    out = []\n",
    "    \n",
    "    for xi in unique_xs:\n",
    "        tmp = np.zeros(mag)\n",
    "        prod = list(filter(None,str(xi).split(\"*\")))\n",
    "        \n",
    "        for i in range(len(prod)):\n",
    "            if(i + 1 < len(prod)):\n",
    "                if(not prod[i].isdigit()):\n",
    "                    if(prod[i+1].isdigit()):\n",
    "                        tmp[translationIdx[prod[i]]] = int(prod[i+1])\n",
    "                    else:\n",
    "                        tmp[translationIdx[prod[i]]] = 1\n",
    "            else:\n",
    "                if(not prod[i].isdigit()):\n",
    "                    tmp[translationIdx[prod[i]]] = 1\n",
    "                    \n",
    "        out.append(tmp)\n",
    "        \n",
    "    return out\n",
    "\n",
    "\n",
    "# Converts expected value vector to expected value scalar. \n",
    "def expVToS(expV, nTrials):\n",
    "    cntr = 1\n",
    "    ev = 0 \n",
    "    for i in expV:\n",
    "        ev += cntr*(i/nTrials)\n",
    "        cntr+=1\n",
    "    return ev"
   ]
  },
  {
   "cell_type": "markdown",
   "metadata": {},
   "source": [
    "Let's use these helper functions to enumerate the possible outcomes of flipping a coin 3 times. "
   ]
  },
  {
   "cell_type": "code",
   "execution_count": 8,
   "metadata": {
    "collapsed": true
   },
   "outputs": [],
   "source": [
    "nFlips = 3\n",
    "r = uniqueX(combX(nFlips,[\"A\",\"B\"]))\n",
    "flipSpace = enumX(r,2)"
   ]
  },
  {
   "cell_type": "markdown",
   "metadata": {},
   "source": [
    "Let's ensure that the probabilities of these combinations sum to one:"
   ]
  },
  {
   "cell_type": "code",
   "execution_count": 9,
   "metadata": {},
   "outputs": [
    {
     "name": "stdout",
     "output_type": "stream",
     "text": [
      "[ 3.  0.]\n",
      "[ 2.  1.]\n",
      "[ 1.  2.]\n",
      "[ 0.  3.]\n",
      "1.0\n"
     ]
    }
   ],
   "source": [
    "totalProb = 0 \n",
    "for case in flipSpace:\n",
    "    totalProb += coin.pmf( case )\n",
    "    print(case)\n",
    "\n",
    "print(totalProb)"
   ]
  },
  {
   "cell_type": "code",
   "execution_count": 10,
   "metadata": {},
   "outputs": [
    {
     "name": "stdout",
     "output_type": "stream",
     "text": [
      "Expected value per class: [ 1.5  1.5]\n",
      "Expected value: 1.5\n"
     ]
    }
   ],
   "source": [
    "ex = expect(coin.pmf,flipSpace)\n",
    "print(\"Expected value per class: {0}\".format(ex))\n",
    "print(\"Expected value: {0}\".format(expVToS(ex,3)) )"
   ]
  },
  {
   "cell_type": "markdown",
   "metadata": {},
   "source": [
    "As we see here, we expect half of the flips to land on heads and the other half on tails. In the expected value per class vector this is clear. When we convert the expected vector the the expected value we get 1.5 because we are encoding each side by an index 1 and 2 respectively. This is computed as follows: \n",
    "\n",
    "$$\\large \\frac{1}{nTrials/classExpectedFrequency} \\frac{2}{nTrials/classExpectedFrequency} = \\\\ 1 * \\frac{classExpectedFreq}{nTrials} + 2 * \\frac{classExpectedFreq}{nTrials} = \\frac{1}{2} + \\frac{2}{2} = 1.5$$. \n",
    "\n",
    "We can show experimentally that the expected value for a coin flip will be 0.5 (half in each class): "
   ]
  },
  {
   "cell_type": "code",
   "execution_count": 11,
   "metadata": {},
   "outputs": [
    {
     "data": {
      "image/png": "[encoded data removed]",
      "text/plain": [
       "<matplotlib.figure.Figure at 0x1c28d8929b0>"
      ]
     },
     "metadata": {},
     "output_type": "display_data"
    }
   ],
   "source": [
    "flips = 1000000\n",
    "flipResults = np.random.multinomial(flips, [1/2]*2, size=1)[0]\n",
    "plt.bar([1,2],flipResults)\n",
    "plt.xticks([1,2])\n",
    "plt.show()"
   ]
  },
  {
   "cell_type": "markdown",
   "metadata": {
    "collapsed": true
   },
   "source": [
    "Let's do the same thing for a six sided dice, where every side is labeled by letters A,B,C,D,F,G. **Note:** We do not use E because Sympy treats it as eluers number. My implementation is very hacky and is only meant for educational purposes. "
   ]
  },
  {
   "cell_type": "code",
   "execution_count": 12,
   "metadata": {},
   "outputs": [
    {
     "name": "stdout",
     "output_type": "stream",
     "text": [
      "P(ABCDFG) = 0.01543\n"
     ]
    }
   ],
   "source": [
    "rolls = 6\n",
    "dice = stat.multinomial(n=rolls,p=[1/6]*6)\n",
    "\n",
    "print(\"P(ABCDFG) = {0:0.5f}\".format(dice.pmf([1,1,1,1,1,1])))"
   ]
  },
  {
   "cell_type": "code",
   "execution_count": 13,
   "metadata": {},
   "outputs": [
    {
     "name": "stdout",
     "output_type": "stream",
     "text": [
      "Total probability of roll space: 1.00000000.\n",
      "Size of roll space: 462\n"
     ]
    }
   ],
   "source": [
    "# Let's enumerate the roll space and ensure all probabilities come to one. \n",
    "r = uniqueX(combX(6,[\"A\",\"B\",\"C\",\"D\",\"F\",\"G\"]))\n",
    "rollSpace = enumX(r,6)\n",
    "\n",
    "totalProb = 0\n",
    "for roll in rollSpace:\n",
    "    totalProb += dice.pmf(roll)\n",
    "\n",
    "print(\"Total probability of roll space: {0:0.8f}.\".format(totalProb))\n",
    "print(\"Size of roll space: {0}\".format(r.shape[0]))"
   ]
  },
  {
   "cell_type": "markdown",
   "metadata": {},
   "source": [
    "Enumerating the entire combinitorial becomes exponnential for larger numbers of trials and classes. Let's now compute the expected vector for a dice rolled 6 times. "
   ]
  },
  {
   "cell_type": "code",
   "execution_count": 14,
   "metadata": {},
   "outputs": [
    {
     "name": "stdout",
     "output_type": "stream",
     "text": [
      "Expected value per face: [ 1.  1.  1.  1.  1.  1.]: \n",
      "Expected value: 3.500000\n"
     ]
    }
   ],
   "source": [
    "ex = expect(dice.pmf,rollSpace)\n",
    "print(\"Expected value per face: {0}: \".format(ex))\n",
    "print(\"Expected value: {0:4f}\".format(expVToS(ex,rolls)))"
   ]
  },
  {
   "cell_type": "markdown",
   "metadata": {},
   "source": [
    "Let's do one more example with a weighted dice that is biased towards one side, where sides 1 - 5 have a probability of 1/8 and side 6 has a probability of 3/8."
   ]
  },
  {
   "cell_type": "code",
   "execution_count": 15,
   "metadata": {},
   "outputs": [
    {
     "name": "stdout",
     "output_type": "stream",
     "text": [
      "Expected value per face: [ 0.75  0.75  0.75  0.75  0.75  2.25]: \n",
      "Expected value: 4.125000\n"
     ]
    }
   ],
   "source": [
    "rolls = 6\n",
    "biasedDice = stat.multinomial(n=rolls,p=[1/8,1/8,1/8,1/8,1/8,3/8])\n",
    "r = uniqueX(combX(6,[\"A\",\"B\",\"C\",\"D\",\"F\",\"G\"]))\n",
    "rollSpace = enumX(r,6)\n",
    "ex = expect(biasedDice.pmf,rollSpace)\n",
    "print(\"Expected value per face: {0}: \".format(ex))\n",
    "print(\"Expected value: {0:4f}\".format(expVToS(ex,rolls)))"
   ]
  },
  {
   "cell_type": "markdown",
   "metadata": {},
   "source": [
    "As we can see, biasing the dice towards a higher number moves the expected value to a higher number. Let's change this so we bias the 1 on the dice instead of the 6. "
   ]
  },
  {
   "cell_type": "code",
   "execution_count": 16,
   "metadata": {},
   "outputs": [
    {
     "name": "stdout",
     "output_type": "stream",
     "text": [
      "Expected value per face: [ 2.25  0.75  0.75  0.75  0.75  0.75]\n",
      "Expected value: 2.875000\n"
     ]
    }
   ],
   "source": [
    "rolls = 6\n",
    "biasedDice = stat.multinomial(n=rolls,p=[3/8,1/8,1/8,1/8,1/8,1/8])\n",
    "r = uniqueX(combX(6,[\"A\",\"B\",\"C\",\"D\",\"F\",\"G\"]))\n",
    "rollSpace = enumX(r,6)\n",
    "ex = expect(biasedDice.pmf,rollSpace)\n",
    "print(\"Expected value per face: {0}\".format(ex))\n",
    "print(\"Expected value: {0:4f}\".format(expVToS(ex,rolls)))"
   ]
  },
  {
   "cell_type": "markdown",
   "metadata": {},
   "source": [
    "## Variance & Standard Distribution"
   ]
  },
  {
   "cell_type": "code",
   "execution_count": 17,
   "metadata": {
    "collapsed": true
   },
   "outputs": [],
   "source": [
    "def var(xDistFn,xs=None,fn=(lambda x: x)):\n",
    "    mean = expect(xDistFn,xs)\n",
    "    z = lambda x: (fn(x)-mean)**2  \n",
    "    return expect(xDistFn,xs,fn=z)\n",
    "\n",
    "def std(xDistFn,xs=None,fn=(lambda x: x)):\n",
    "    return np.sqrt(var(xDistFn,xs))\n"
   ]
  },
  {
   "cell_type": "markdown",
   "metadata": {},
   "source": [
    "Let's begin with computing the variance of a normal distribution. "
   ]
  },
  {
   "cell_type": "code",
   "execution_count": 18,
   "metadata": {},
   "outputs": [
    {
     "name": "stdout",
     "output_type": "stream",
     "text": [
      "Variance: 0.010000\n",
      "Variance: 0.010000\n"
     ]
    }
   ],
   "source": [
    "normDist = stat.norm(loc=1,scale=0.1)\n",
    "print(\"Variance: {0:5f}\".format(normDist.var()))\n",
    "print(\"Variance: {0:5f}\".format(var(normDist.pdf)))\n"
   ]
  },
  {
   "cell_type": "markdown",
   "metadata": {},
   "source": [
    "Now let's do the same for a biased dice versus an unbiased one."
   ]
  },
  {
   "cell_type": "code",
   "execution_count": 19,
   "metadata": {},
   "outputs": [
    {
     "name": "stdout",
     "output_type": "stream",
     "text": [
      "Variance: 2.9166666666666634: \n",
      "Expected value: 3.4999999999999956\n"
     ]
    }
   ],
   "source": [
    "# Unbiased. \n",
    "rolls = 6\n",
    "dice = stat.multinomial(n=rolls,p=[1/6]*6)\n",
    "r = uniqueX(combX(rolls,[\"A\",\"B\",\"C\",\"D\",\"F\",\"G\"]))\n",
    "rollSpace = enumX(r,6)\n",
    "print(\"Variance: {0}: \".format(expVToS(var(dice.pmf,rollSpace),rolls)))\n",
    "print(\"Expected value: {0}\".format(expVToS(expect(dice.pmf,rollSpace),rolls)))"
   ]
  },
  {
   "cell_type": "code",
   "execution_count": 20,
   "metadata": {},
   "outputs": [
    {
     "data": {
      "image/png": "[encoded data removed]",
      "text/plain": [
       "<matplotlib.figure.Figure at 0x1c28d555390>"
      ]
     },
     "metadata": {},
     "output_type": "display_data"
    }
   ],
   "source": [
    "rolls = 1000000\n",
    "rollResults = np.random.multinomial(rolls, [1/6]*6, size=1)[0]\n",
    "plt.bar([1,2,3,4,5,6],rollResults)\n",
    "plt.xticks([1,2,3,4,5,6])\n",
    "plt.show()"
   ]
  },
  {
   "cell_type": "code",
   "execution_count": 21,
   "metadata": {},
   "outputs": [
    {
     "name": "stdout",
     "output_type": "stream",
     "text": [
      "Variance: 3.046875000000001: \n",
      "Expected value: 4.125000000000001\n"
     ]
    }
   ],
   "source": [
    "rolls = 6\n",
    "dice = stat.multinomial(n=rolls,p=[1/8,1/8,1/8,1/8,1/8,3/8])\n",
    "r = uniqueX(combX(rolls,[\"A\",\"B\",\"C\",\"D\",\"F\",\"G\"]))\n",
    "rollSpace = enumX(r,6)\n",
    "print(\"Variance: {0}: \".format(expVToS(var(dice.pmf,rollSpace),rolls)))\n",
    "print(\"Expected value: {0}\".format(expVToS(expect(dice.pmf,rollSpace),rolls)))\n"
   ]
  },
  {
   "cell_type": "code",
   "execution_count": 22,
   "metadata": {},
   "outputs": [
    {
     "data": {
      "image/png": "[encoded data removed]",
      "text/plain": [
       "<matplotlib.figure.Figure at 0x1c28da379b0>"
      ]
     },
     "metadata": {},
     "output_type": "display_data"
    }
   ],
   "source": [
    "rolls = 1000000\n",
    "rollResults = np.random.multinomial(rolls, [1/8,1/8,1/8,1/8,1/8,3/8], size=1)[0]\n",
    "plt.bar([1,2,3,4,5,6],rollResults)\n",
    "plt.xticks([1,2,3,4,5,6])\n",
    "plt.show()"
   ]
  },
  {
   "cell_type": "markdown",
   "metadata": {},
   "source": [
    "As we can see, the variance increases in biased dice example because the proabibilities are more varied,but not by much because we still have a lot of repitition. Let's create a really wacky dice that has different probabilities on each side. Do you think the variance will be larger?"
   ]
  },
  {
   "cell_type": "code",
   "execution_count": 23,
   "metadata": {},
   "outputs": [
    {
     "name": "stdout",
     "output_type": "stream",
     "text": [
      "Variance: 3.3333333333333357: \n",
      "Expected value: 4.3333333333333375\n"
     ]
    }
   ],
   "source": [
    "rolls = 6\n",
    "dice = stat.multinomial(n=rolls,p=[1/21,2/21,3/21,4/21,5/21,6/21])\n",
    "r = uniqueX(combX(rolls,[\"A\",\"B\",\"C\",\"D\",\"F\",\"G\"]))\n",
    "rollSpace = enumX(r,6)\n",
    "print(\"Variance: {0}: \".format(expVToS(var(dice.pmf,rollSpace),rolls)))\n",
    "print(\"Expected value: {0}\".format(expVToS(expect(dice.pmf,rollSpace),rolls)))"
   ]
  },
  {
   "cell_type": "code",
   "execution_count": 24,
   "metadata": {},
   "outputs": [
    {
     "data": {
      "image/png": "[encoded data removed]",
      "text/plain": [
       "<matplotlib.figure.Figure at 0x1c28db39748>"
      ]
     },
     "metadata": {},
     "output_type": "display_data"
    }
   ],
   "source": [
    "rolls = 1000000\n",
    "rollResults = np.random.multinomial(rolls, [1/21,2/21,3/21,4/21,5/21,6/21], size=1)[0]\n",
    "plt.bar([1,2,3,4,5,6],rollResults)\n",
    "plt.xticks([1,2,3,4,5,6])\n",
    "plt.show()"
   ]
  },
  {
   "cell_type": "markdown",
   "metadata": {},
   "source": [
    "### Experimental Section\n",
    "In this section we will try to find the probabilities of a set of weighted die faces that give us the largest variance with the constraint that no side can have a zero proability. The first part of this problem is figuring out a method of factoring 1 with 6 factors, 1 factor for each die face, with respect to some fundamental factor/precision. We require some fundamental precision/factor because any real number can be factored in an infinite number of ways. \n"
   ]
  },
  {
   "cell_type": "markdown",
   "metadata": {},
   "source": [
    "We can see that in the case of having two summands equal to 1, we produce a line in R2"
   ]
  },
  {
   "cell_type": "code",
   "execution_count": 25,
   "metadata": {},
   "outputs": [
    {
     "data": {
      "image/png": "[encoded data removed]",
      "text/plain": [
       "<matplotlib.figure.Figure at 0x1c28db62940>"
      ]
     },
     "metadata": {},
     "output_type": "display_data"
    },
    {
     "data": {
      "text/latex": [
       "$$\\left [ - x + 1\\right ]$$"
      ],
      "text/plain": [
       "[-x + 1]"
      ]
     },
     "metadata": {},
     "output_type": "display_data"
    }
   ],
   "source": [
    "x = sp.symbols('x')\n",
    "y = sp.symbols('y')\n",
    "sp.plot_implicit(sp.Eq(x+y, 1))\n",
    "a = sp.solve(sp.Eq(x+y, 1),y,implicit=True)\n",
    "display(sp.solve(sp.Eq(x+y, 1),y,implicit=True))"
   ]
  },
  {
   "cell_type": "markdown",
   "metadata": {},
   "source": [
    "On the interval x = [0,1], using the above formula y = -x + 1, we can calculate all sum permutations within a given precision governed by how fine our points are within this interval. "
   ]
  },
  {
   "cell_type": "code",
   "execution_count": 26,
   "metadata": {},
   "outputs": [
    {
     "data": {
      "image/png": "[encoded data removed]",
      "text/plain": [
       "<matplotlib.figure.Figure at 0x1c28db4f630>"
      ]
     },
     "metadata": {},
     "output_type": "display_data"
    }
   ],
   "source": [
    "# [0,1] - 10 points on this interval\n",
    "idx = np.linspace(0,1,10)\n",
    "ys = []\n",
    "for i in idx:\n",
    "    ys.append(-i+1)\n",
    "plt.plot(idx,ys)\n",
    "\n",
    "plt.show()"
   ]
  },
  {
   "cell_type": "code",
   "execution_count": 27,
   "metadata": {},
   "outputs": [
    {
     "name": "stdout",
     "output_type": "stream",
     "text": [
      "0.000000 + 1.000000 = 1.0\n",
      "0.111111 + 0.888889 = 1.0\n",
      "0.222222 + 0.777778 = 1.0\n",
      "0.333333 + 0.666667 = 1.0\n",
      "0.444444 + 0.555556 = 1.0\n",
      "0.555556 + 0.444444 = 1.0\n",
      "0.666667 + 0.333333 = 1.0\n",
      "0.777778 + 0.222222 = 1.0\n",
      "0.888889 + 0.111111 = 1.0\n",
      "1.000000 + 0.000000 = 1.0\n"
     ]
    }
   ],
   "source": [
    "for i in zip(idx,ys):\n",
    "    print(\"{0:4f} + {1:4f} = {2}\".format(i[0],i[1],i[0]+i[1]))"
   ]
  },
  {
   "cell_type": "markdown",
   "metadata": {},
   "source": [
    "If we add more points in the linear subspace between [0,1], we will get finer combinations. Now what about the case of representing 1 as three summands:"
   ]
  },
  {
   "cell_type": "code",
   "execution_count": 38,
   "metadata": {},
   "outputs": [
    {
     "ename": "NameError",
     "evalue": "name 'z' is not defined",
     "output_type": "error",
     "traceback": [
      "\u001b[1;31m---------------------------------------------------------------------------\u001b[0m",
      "\u001b[1;31mNameError\u001b[0m                                 Traceback (most recent call last)",
      "\u001b[1;32m<ipython-input-38-0a5c6c4e6d98>\u001b[0m in \u001b[0;36m<module>\u001b[1;34m()\u001b[0m\n\u001b[0;32m      1\u001b[0m \u001b[0mx1\u001b[0m\u001b[1;33m,\u001b[0m\u001b[0mx2\u001b[0m\u001b[1;33m,\u001b[0m\u001b[0mx3\u001b[0m\u001b[1;33m,\u001b[0m\u001b[0mZ\u001b[0m \u001b[1;33m=\u001b[0m \u001b[0msp\u001b[0m\u001b[1;33m.\u001b[0m\u001b[0msymbols\u001b[0m\u001b[1;33m(\u001b[0m\u001b[1;34m'x1 x2 x3 Z'\u001b[0m\u001b[1;33m)\u001b[0m\u001b[1;33m\u001b[0m\u001b[0m\n\u001b[0;32m      2\u001b[0m \u001b[1;31m# in the case of three variables\u001b[0m\u001b[1;33m\u001b[0m\u001b[1;33m\u001b[0m\u001b[0m\n\u001b[1;32m----> 3\u001b[1;33m \u001b[0msp\u001b[0m\u001b[1;33m.\u001b[0m\u001b[0msolve\u001b[0m\u001b[1;33m(\u001b[0m\u001b[0msp\u001b[0m\u001b[1;33m.\u001b[0m\u001b[0mEq\u001b[0m\u001b[1;33m(\u001b[0m\u001b[0mx\u001b[0m\u001b[1;33m+\u001b[0m\u001b[0my\u001b[0m\u001b[1;33m+\u001b[0m\u001b[0mz\u001b[0m\u001b[1;33m,\u001b[0m \u001b[1;36m1\u001b[0m\u001b[1;33m)\u001b[0m\u001b[1;33m,\u001b[0m\u001b[0my\u001b[0m\u001b[1;33m,\u001b[0m\u001b[0mimplicit\u001b[0m\u001b[1;33m=\u001b[0m\u001b[1;32mTrue\u001b[0m\u001b[1;33m)\u001b[0m\u001b[1;33m\u001b[0m\u001b[0m\n\u001b[0m",
      "\u001b[1;31mNameError\u001b[0m: name 'z' is not defined"
     ]
    }
   ],
   "source": [
    "x1,x2,x3,Z = sp.symbols('x1 x2 x3 Z')\n",
    "# in the case of three variables \n",
    "sp.solve(sp.Eq(x+y+z, 1),y,implicit=True)"
   ]
  },
  {
   "cell_type": "markdown",
   "metadata": {},
   "source": [
    "The general form seems to be:\n",
    "$$\\large -x_1 - x_2 - ... - x_{n-1} + Z = x_n$$\n",
    "Where the x's are the variables representing the summands and the Z is the number we'd like to sum to.\n",
    "For the case of three variables, we have the system of equations: \n",
    "$$\\large -x_1 - x_2 + Z = x_3 \\\\\\large -x_1 - x_3 + Z = x_2 \\\\\\large -x_2 - x_3 + Z = x_1$$\n",
    "Let's define a python function to do this for us."
   ]
  },
  {
   "cell_type": "code",
   "execution_count": 39,
   "metadata": {},
   "outputs": [
    {
     "data": {
      "text/latex": [
       "$$\\left \\{ x_{1} : Z - x_{2} - x_{3}\\right \\}$$"
      ],
      "text/plain": [
       "{x₁: Z - x₂ - x₃}"
      ]
     },
     "execution_count": 39,
     "metadata": {},
     "output_type": "execute_result"
    }
   ],
   "source": [
    "x1,x2,x3,Z = sp.symbols('x1 x2 x3 Z')\n",
    "eqn = []\n",
    "eqn.append(sp.Eq(-x1 - x2 + Z, x3))\n",
    "eqn.append(sp.Eq(-x1 - x3 + Z, x2))\n",
    "eqn.append(sp.Eq(-x2 - x3 + Z, x1))\n",
    "sp.solve(eqn,x1)"
   ]
  },
  {
   "cell_type": "markdown",
   "metadata": {},
   "source": [
    "The eloquent way of solving this requires a notion of cycling a vector with modulo. We define the following function to help us do this: "
   ]
  },
  {
   "cell_type": "code",
   "execution_count": 31,
   "metadata": {},
   "outputs": [
    {
     "name": "stdout",
     "output_type": "stream",
     "text": [
      "[0, 1, 2, 3]\n",
      "[3, 0, 1, 2]\n",
      "[2, 3, 0, 1]\n",
      "[1, 2, 3, 0]\n",
      "[0, 1, 2, 3]\n",
      "[3, 0, 1, 2]\n",
      "[2, 3, 0, 1]\n",
      "[1, 2, 3, 0]\n",
      "[0, 1, 2, 3]\n",
      "[3, 0, 1, 2]\n",
      "[2, 3, 0, 1]\n"
     ]
    }
   ],
   "source": [
    "def cycleDown(vect, times=1):\n",
    "    vCpy = list(vect)\n",
    "    for i in range(times):\n",
    "        vCpy.insert(0,vCpy[-1])\n",
    "        vCpy.pop()\n",
    "    return vCpy\n",
    "    \n",
    "ls = [0,1,2,3]\n",
    "print(ls)\n",
    "for i in range(10):\n",
    "    ls = cycleDown(ls)\n",
    "    print(ls)"
   ]
  },
  {
   "cell_type": "markdown",
   "metadata": {},
   "source": [
    "We will now produce a linear subspace and stack it however many terms is required, then we will cycle the lists until they sum to one across all rows. "
   ]
  },
  {
   "cell_type": "code",
   "execution_count": 32,
   "metadata": {},
   "outputs": [
    {
     "name": "stdout",
     "output_type": "stream",
     "text": [
      "(0.1111111111111111, 0.66666666666666663, 0.33333333333333331)\n",
      "(0.22222222222222221, 0.77777777777777768, 0.44444444444444442)\n",
      "(0.33333333333333331, 0.88888888888888884, 0.55555555555555558)\n",
      "(0.44444444444444442, 0.1111111111111111, 0.66666666666666663)\n",
      "(0.55555555555555558, 0.22222222222222221, 0.77777777777777768)\n",
      "(0.66666666666666663, 0.33333333333333331, 0.88888888888888884)\n",
      "(0.77777777777777768, 0.44444444444444442, 0.1111111111111111)\n",
      "(0.88888888888888884, 0.55555555555555558, 0.22222222222222221)\n",
      "8\n"
     ]
    }
   ],
   "source": [
    "def summandsPermute(val,nTerms,precision=10):\n",
    "    \n",
    "    outLs = []\n",
    "    idx = np.linspace(0,val,precision)\n",
    "    \n",
    "    # Remove edge cases. \n",
    "    idx = idx[1:-1]\n",
    "    \n",
    "    cycleVal = nTerms\n",
    "    cycleCounter = 0\n",
    "    for i in range(nTerms):\n",
    "        outLs.append(list(cycleDown(idx,cycleCounter)))\n",
    "        cycleCounter+=cycleVal\n",
    "        \n",
    "    \n",
    "    return list(zip(*outLs))\n",
    "\n",
    "result = summandsPermute(1,3)\n",
    "for i in result:\n",
    "    print(i)\n",
    "    \n",
    "print(len(result))\n"
   ]
  },
  {
   "cell_type": "code",
   "execution_count": 48,
   "metadata": {},
   "outputs": [
    {
     "name": "stdout",
     "output_type": "stream",
     "text": [
      "(0.1111111111111111, 0.1111111111111111, 0.1111111111111111)\n",
      "(0.1111111111111111, 0.1111111111111111, 0.88888888888888884)\n",
      "(0.1111111111111111, 0.1111111111111111, 0.77777777777777768)\n",
      "(0.1111111111111111, 0.1111111111111111, 0.66666666666666663)\n"
     ]
    }
   ],
   "source": [
    "def sumTop(ls):\n",
    "    sumLs = 0\n",
    "    for i in ls:\n",
    "        sumLs += i[0]\n",
    "    return sumLs\n",
    "def cycleColumn(group,index):\n",
    "    group[index] = cycleDown(group[index])\n",
    "\n",
    "def summandsPermute(val,nTerms,precision=10):\n",
    "    \n",
    "    outLs = []\n",
    "    cycleGroup = []\n",
    "    idx = np.linspace(0,val,precision)\n",
    "    \n",
    "    # Remove edge cases. \n",
    "    idx = idx[1:-1]\n",
    "    \n",
    "    for i in range(nTerms):\n",
    "        cycleGroup.append(list(idx))\n",
    "    \n",
    "    cycleIndex = nTerms - 1\n",
    "    \n",
    "    for i in range(4):\n",
    "        ls\n",
    "        print( list(zip(*cycleGroup))[0])\n",
    "        cycleColumn(cycleGroup,cycleIndex)\n",
    "        \n",
    "        \n",
    "    \n",
    "    return list(zip(*outLs))\n",
    "\n",
    "result = summandsPermute(1,3)\n"
   ]
  },
  {
   "cell_type": "code",
   "execution_count": 29,
   "metadata": {},
   "outputs": [
    {
     "data": {
      "text/latex": [
       "$$0.9999999999999991$$"
      ],
      "text/plain": [
       "0.9999999999999991"
      ]
     },
     "execution_count": 29,
     "metadata": {},
     "output_type": "execute_result"
    }
   ],
   "source": [
    "\n",
    "0.111111111111111 + 0.1111111111111111 + 0.777777777777777\n",
    "0.111111111111111 + 0.2222222222222222 + 0.6666666666\n",
    "0.111111111111111 + 0.33333333333333 +  0.5555555555555"
   ]
  },
  {
   "cell_type": "code",
   "execution_count": 33,
   "metadata": {},
   "outputs": [
    {
     "data": {
      "text/latex": [
       "$$0.9999999999333331$$"
      ],
      "text/plain": [
       "0.9999999999333331"
      ]
     },
     "execution_count": 33,
     "metadata": {},
     "output_type": "execute_result"
    }
   ],
   "source": [
    "0.111111111111111 + 0.2222222222222222 + 0.6666666666"
   ]
  },
  {
   "cell_type": "code",
   "execution_count": 118,
   "metadata": {},
   "outputs": [
    {
     "data": {
      "text/latex": [
       "$$10$$"
      ],
      "text/plain": [
       "10"
      ]
     },
     "execution_count": 118,
     "metadata": {},
     "output_type": "execute_result"
    }
   ],
   "source": [
    "int('20',5)"
   ]
  },
  {
   "cell_type": "code",
   "execution_count": null,
   "metadata": {
    "collapsed": true
   },
   "outputs": [],
   "source": [
    "def varOfMulti(p,rs,r):\n",
    "    d = stat.multinomial(n=r,p=p)\n",
    "    return expVToS(var(d.pmf,rs),r)\n",
    "\n",
    "rolls = 6\n",
    "r = uniqueX(combX(rolls,[\"A\",\"B\",\"C\",\"D\",\"F\",\"G\"]))\n",
    "rollSpace = enumX(r,6)"
   ]
  },
  {
   "cell_type": "code",
   "execution_count": null,
   "metadata": {
    "collapsed": true
   },
   "outputs": [],
   "source": [
    "#varOfMulti([2/10,2/10,1/10,1/10,3/10,1/10],rollSpace,rolls)\n",
    "factorize(1,3)"
   ]
  },
  {
   "cell_type": "markdown",
   "metadata": {},
   "source": [
    "## Covariance"
   ]
  },
  {
   "cell_type": "code",
   "execution_count": null,
   "metadata": {
    "collapsed": true
   },
   "outputs": [],
   "source": [
    "1/3 - 1/10 - 1/10"
   ]
  },
  {
   "cell_type": "code",
   "execution_count": null,
   "metadata": {
    "collapsed": true
   },
   "outputs": [],
   "source": [
    "1/10"
   ]
  },
  {
   "cell_type": "code",
   "execution_count": null,
   "metadata": {
    "collapsed": true
   },
   "outputs": [],
   "source": []
  }
 ],
 "metadata": {
  "kernelspec": {
   "display_name": "Python 3",
   "language": "python",
   "name": "python3"
  },
  "language_info": {
   "codemirror_mode": {
    "name": "ipython",
    "version": 3
   },
   "file_extension": ".py",
   "mimetype": "text/x-python",
   "name": "python",
   "nbconvert_exporter": "python",
   "pygments_lexer": "ipython3",
   "version": "3.5.3"
  }
 },
 "nbformat": 4,
 "nbformat_minor": 2
}
